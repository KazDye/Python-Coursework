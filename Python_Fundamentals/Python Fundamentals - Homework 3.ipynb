{
 "cells": [
  {
   "cell_type": "markdown",
   "metadata": {},
   "source": [
    "# Homework 3"
   ]
  },
  {
   "cell_type": "markdown",
   "metadata": {},
   "source": [
    "## Problem 1\n",
    "Given a sentence (ie, a string) and a lowercase letter, return a list of words from the sentence that contain the letter, ignoring the case of the words in the sentence. Look up methods on the str object to get a list of words from the sentence. Remember we know how to test if something (like a set or list) contains some element.\n",
    "Use a list comprehension to get the final list to return."
   ]
  },
  {
   "cell_type": "code",
   "execution_count": 1,
   "metadata": {},
   "outputs": [],
   "source": [
    "def words_containing(sentence, letter):\n",
    "    \"\"\" Given a sentence, returns list of words that contain the letter.\n",
    "        Letter given is lowercase. Sentence can be mixed case, and the\n",
    "        case should be ignored for searching.\n",
    "    \"\"\"\n",
    "    words = sentence.split(' ')\n",
    "    relevant = [w for w in words if letter in w.lower()]\n",
    "    return relevant"
   ]
  },
  {
   "cell_type": "code",
   "execution_count": 2,
   "metadata": {},
   "outputs": [
    {
     "name": "stdout",
     "output_type": "stream",
     "text": [
      "['Anyone', 'has', 'made', 'a', 'mistake', 'has', 'anything']\n",
      "[]\n"
     ]
    }
   ],
   "source": [
    "sentence = \"Anyone who has never made a mistake has never tried anything new\"\n",
    "print(words_containing(sentence, 'a'))\n",
    "print(words_containing(sentence, 'x'))"
   ]
  },
  {
   "cell_type": "code",
   "execution_count": 3,
   "metadata": {},
   "outputs": [
    {
     "name": "stdout",
     "output_type": "stream",
     "text": [
      "['The', 'the']\n",
      "['cow', 'over', 'moon']\n"
     ]
    }
   ],
   "source": [
    "sentence = 'The cow jumped over the moon'\n",
    "print(words_containing(sentence, 't'))\n",
    "print(words_containing(sentence, 'o'))"
   ]
  },
  {
   "cell_type": "markdown",
   "metadata": {},
   "source": [
    "## Problem 2\n",
    "Return the length of the input object, or -1 if the object has no length. Use exception handling for this one. What does it mean for an object to have no length? It is an object for which the len() function does not apply. What happens when you try to get the len of something that has no len ? Try doing len(5) in the REPL. What happens? We want our len_safe function to return -1 for this situation, instead of getting an error. Since don't want to have exceptions, we will capture the exception and return a -1 for objects that have no len ."
   ]
  },
  {
   "cell_type": "code",
   "execution_count": 4,
   "metadata": {},
   "outputs": [],
   "source": [
    "def len_safe(object):\n",
    "    \"\"\"Return length of object or -1 if object has no length.\"\"\"\n",
    "    try:\n",
    "        length = len(object)\n",
    "    except TypeError:\n",
    "        length = -1\n",
    "    return length"
   ]
  },
  {
   "cell_type": "code",
   "execution_count": 5,
   "metadata": {},
   "outputs": [
    {
     "name": "stdout",
     "output_type": "stream",
     "text": [
      "2\n"
     ]
    }
   ],
   "source": [
    "my_dict = {'a': 23, 'b': 8}\n",
    "print(len_safe(my_dict))"
   ]
  },
  {
   "cell_type": "code",
   "execution_count": 6,
   "metadata": {},
   "outputs": [
    {
     "data": {
      "text/plain": [
       "True"
      ]
     },
     "execution_count": 6,
     "metadata": {},
     "output_type": "execute_result"
    }
   ],
   "source": [
    "len_safe([]) == 0"
   ]
  },
  {
   "cell_type": "code",
   "execution_count": 7,
   "metadata": {},
   "outputs": [
    {
     "data": {
      "text/plain": [
       "True"
      ]
     },
     "execution_count": 7,
     "metadata": {},
     "output_type": "execute_result"
    }
   ],
   "source": [
    "len_safe(0.25) == -1"
   ]
  },
  {
   "cell_type": "code",
   "execution_count": 8,
   "metadata": {},
   "outputs": [
    {
     "data": {
      "text/plain": [
       "-1"
      ]
     },
     "execution_count": 8,
     "metadata": {},
     "output_type": "execute_result"
    }
   ],
   "source": [
    "len_safe(7)"
   ]
  },
  {
   "cell_type": "code",
   "execution_count": 9,
   "metadata": {},
   "outputs": [
    {
     "data": {
      "text/plain": [
       "3"
      ]
     },
     "execution_count": 9,
     "metadata": {},
     "output_type": "execute_result"
    }
   ],
   "source": [
    "len_safe('cat')"
   ]
  },
  {
   "cell_type": "code",
   "execution_count": 10,
   "metadata": {},
   "outputs": [
    {
     "data": {
      "text/plain": [
       "0"
      ]
     },
     "execution_count": 10,
     "metadata": {},
     "output_type": "execute_result"
    }
   ],
   "source": [
    "len_safe('')"
   ]
  },
  {
   "cell_type": "code",
   "execution_count": 11,
   "metadata": {},
   "outputs": [
    {
     "name": "stdout",
     "output_type": "stream",
     "text": [
      "5\n"
     ]
    }
   ],
   "source": [
    "animals = ['dog', 'cat', 'bird', 'cat', 'fish']\n",
    "print(len_safe(animals))"
   ]
  },
  {
   "cell_type": "markdown",
   "metadata": {},
   "source": [
    "## Problem 3\n",
    "Create a generator function that loops over the input iterable sequence, yielding one element at a time, but skipping\n",
    "duplicates. Note the output should be in the same order as the input sequence. You may assume that all elements in the\n",
    "input iterable are atomic, namely they are all single objects and not lists or dictionaries, etc. It must not modify the input sequence object.\n",
    "\n",
    "Note that it should be a generator function. This means that in the unique function, do not make a new list containing\n",
    "all the unique elements and then produce the output. Do not use any methods of dict or import any libraries.\n",
    "However, you may want to use a set or list as a helper. For best results, use yield ."
   ]
  },
  {
   "cell_type": "code",
   "execution_count": 1,
   "metadata": {},
   "outputs": [],
   "source": [
    "def unique(sequence):\n",
    "    \"\"\"Yield iterable elements in order, skipping duplicate values.\"\"\"\n",
    "    unique_elements = []\n",
    "    for elem in sequence:\n",
    "        if elem not in unique_elements:\n",
    "            unique_elements.append(elem)\n",
    "            yield elem    "
   ]
  },
  {
   "cell_type": "code",
   "execution_count": 2,
   "metadata": {},
   "outputs": [
    {
     "data": {
      "text/plain": [
       "4"
      ]
     },
     "execution_count": 2,
     "metadata": {},
     "output_type": "execute_result"
    }
   ],
   "source": [
    "numbers = [4, 5, 2, 6, 2, 3, 5, 8]\n",
    "nums = unique(numbers)\n",
    "next(nums)"
   ]
  },
  {
   "cell_type": "code",
   "execution_count": 3,
   "metadata": {},
   "outputs": [
    {
     "data": {
      "text/plain": [
       "5"
      ]
     },
     "execution_count": 3,
     "metadata": {},
     "output_type": "execute_result"
    }
   ],
   "source": [
    "next(nums)"
   ]
  },
  {
   "cell_type": "code",
   "execution_count": 5,
   "metadata": {},
   "outputs": [
    {
     "data": {
      "text/plain": [
       "6"
      ]
     },
     "execution_count": 5,
     "metadata": {},
     "output_type": "execute_result"
    }
   ],
   "source": [
    "next(nums)"
   ]
  },
  {
   "cell_type": "code",
   "execution_count": 6,
   "metadata": {},
   "outputs": [
    {
     "data": {
      "text/plain": [
       "3"
      ]
     },
     "execution_count": 6,
     "metadata": {},
     "output_type": "execute_result"
    }
   ],
   "source": [
    "next(nums)"
   ]
  },
  {
   "cell_type": "code",
   "execution_count": 7,
   "metadata": {},
   "outputs": [
    {
     "data": {
      "text/plain": [
       "8"
      ]
     },
     "execution_count": 7,
     "metadata": {},
     "output_type": "execute_result"
    }
   ],
   "source": [
    "next(nums)"
   ]
  },
  {
   "cell_type": "code",
   "execution_count": 8,
   "metadata": {},
   "outputs": [
    {
     "ename": "StopIteration",
     "evalue": "",
     "output_type": "error",
     "traceback": [
      "\u001b[0;31m---------------------------------------------------------------------------\u001b[0m",
      "\u001b[0;31mStopIteration\u001b[0m                             Traceback (most recent call last)",
      "\u001b[0;32m<ipython-input-8-65d62a8c3136>\u001b[0m in \u001b[0;36m<module>\u001b[0;34m()\u001b[0m\n\u001b[0;32m----> 1\u001b[0;31m \u001b[0mnext\u001b[0m\u001b[0;34m(\u001b[0m\u001b[0mnums\u001b[0m\u001b[0;34m)\u001b[0m\u001b[0;34m\u001b[0m\u001b[0m\n\u001b[0m",
      "\u001b[0;31mStopIteration\u001b[0m: "
     ]
    }
   ],
   "source": [
    "next(nums)"
   ]
  },
  {
   "cell_type": "code",
   "execution_count": 4,
   "metadata": {},
   "outputs": [
    {
     "data": {
      "text/plain": [
       "2"
      ]
     },
     "execution_count": 4,
     "metadata": {},
     "output_type": "execute_result"
    }
   ],
   "source": [
    "next(nums)"
   ]
  },
  {
   "cell_type": "code",
   "execution_count": 9,
   "metadata": {},
   "outputs": [
    {
     "data": {
      "text/plain": [
       "'dog'"
      ]
     },
     "execution_count": 9,
     "metadata": {},
     "output_type": "execute_result"
    }
   ],
   "source": [
    "things = unique(['dog', 'cat', 'bird', 'cat', 'fish'])\n",
    "next(things)"
   ]
  },
  {
   "cell_type": "code",
   "execution_count": 21,
   "metadata": {},
   "outputs": [
    {
     "data": {
      "text/plain": [
       "'cat'"
      ]
     },
     "execution_count": 21,
     "metadata": {},
     "output_type": "execute_result"
    }
   ],
   "source": [
    "next(things)"
   ]
  },
  {
   "cell_type": "code",
   "execution_count": 22,
   "metadata": {},
   "outputs": [
    {
     "data": {
      "text/plain": [
       "'bird'"
      ]
     },
     "execution_count": 22,
     "metadata": {},
     "output_type": "execute_result"
    }
   ],
   "source": [
    "next(things)"
   ]
  },
  {
   "cell_type": "code",
   "execution_count": 23,
   "metadata": {},
   "outputs": [
    {
     "data": {
      "text/plain": [
       "'fish'"
      ]
     },
     "execution_count": 23,
     "metadata": {},
     "output_type": "execute_result"
    }
   ],
   "source": [
    "next(things)"
   ]
  },
  {
   "cell_type": "code",
   "execution_count": 24,
   "metadata": {},
   "outputs": [
    {
     "ename": "StopIteration",
     "evalue": "",
     "output_type": "error",
     "traceback": [
      "\u001b[0;31m---------------------------------------------------------------------------\u001b[0m",
      "\u001b[0;31mStopIteration\u001b[0m                             Traceback (most recent call last)",
      "\u001b[0;32m<ipython-input-24-899162e6dde9>\u001b[0m in \u001b[0;36m<module>\u001b[0;34m\u001b[0m\n\u001b[0;32m----> 1\u001b[0;31m \u001b[0mnext\u001b[0m\u001b[0;34m(\u001b[0m\u001b[0mthings\u001b[0m\u001b[0;34m)\u001b[0m\u001b[0;34m\u001b[0m\u001b[0;34m\u001b[0m\u001b[0m\n\u001b[0m",
      "\u001b[0;31mStopIteration\u001b[0m: "
     ]
    }
   ],
   "source": [
    "next(things)"
   ]
  },
  {
   "cell_type": "markdown",
   "metadata": {},
   "source": [
    "## Problem 4\n",
    "```\n",
    "$ python HW3_cli.py -h\n",
    "usage: HW3_cli.py [-h] [-p] [-c] [-l] texts [texts ...]\n",
    "positional arguments:\n",
    "texts Input strings to operate on\n",
    "optional arguments:\n",
    "-h, --help show this help message and exit\n",
    "-p, --print Just print the input strings\n",
    "-c, --combine Print input strings combined in a continuous string\n",
    "-l, --len Print the lengths of the input strings\n",
    "Does print, combine, then len. If no flags given, does nothing```"
   ]
  },
  {
   "cell_type": "markdown",
   "metadata": {},
   "source": [
    "Note: Testing of the following code needs to be done from the command line (i.e., not in notebooks)."
   ]
  },
  {
   "cell_type": "code",
   "execution_count": null,
   "metadata": {},
   "outputs": [],
   "source": [
    "import argparse\n",
    "\n",
    "if __name__ == \"__main__\":\n",
    "    parser = argparse.ArgumentParser(\n",
    "        epilog=\"Does print, combine, then len. If no flags given, does nothing\"\n",
    "    )\n",
    "\n",
    "    parser.add_argument('texts',\n",
    "                        type=str,\n",
    "                        nargs='*',\n",
    "                        help='Input strings to operate on')\n",
    "\n",
    "    parser.add_argument('-p',\n",
    "                        '--print',\n",
    "                        action='store_true',\n",
    "                        help='Just print the input strings')\n",
    "\n",
    "    parser.add_argument('-c',\n",
    "                        '--combine',\n",
    "                        action='store_true',\n",
    "                        help='Print input strings combined in a continuous string')\n",
    "\n",
    "    parser.add_argument('-l',\n",
    "                        '--len',\n",
    "                        action='store_true',\n",
    "                        help='Print the lengths of the input strings')\n",
    "\n",
    "    args = parser.parse_args()\n",
    "\n",
    "    input_strings = args.texts\n",
    "\n",
    "    if args.print:\n",
    "        print(' '.join(input_strings))\n",
    "\n",
    "    if args.combine:\n",
    "        print(''.join(input_strings))\n",
    "\n",
    "    if args.len:\n",
    "        print(' '.join([str(len(s)) for s in input_strings]))"
   ]
  }
 ],
 "metadata": {
  "hide_input": false,
  "kernelspec": {
   "display_name": "Python 3",
   "language": "python",
   "name": "python3"
  },
  "language_info": {
   "codemirror_mode": {
    "name": "ipython",
    "version": 3
   },
   "file_extension": ".py",
   "mimetype": "text/x-python",
   "name": "python",
   "nbconvert_exporter": "python",
   "pygments_lexer": "ipython3",
   "version": "3.6.5"
  }
 },
 "nbformat": 4,
 "nbformat_minor": 4
}
