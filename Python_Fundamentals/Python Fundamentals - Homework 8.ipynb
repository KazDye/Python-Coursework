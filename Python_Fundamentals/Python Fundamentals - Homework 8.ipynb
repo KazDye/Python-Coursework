{
 "cells": [
  {
   "cell_type": "markdown",
   "metadata": {},
   "source": [
    "# Homework 8"
   ]
  },
  {
   "cell_type": "code",
   "execution_count": 23,
   "metadata": {},
   "outputs": [],
   "source": [
    "import math\n",
    "\n",
    "class Point:\n",
    "    \"\"\"Two-Dimensional Point(x, y)\"\"\"\n",
    "    \n",
    "    def __init__(self, x=0, y=0):\n",
    "        \"\"\"Initialize the Point instance\"\"\"\n",
    "        self.x = x\n",
    "        self.y = y\n",
    "\n",
    "    @property\n",
    "    def magnitude(self):\n",
    "        \"\"\"Return the magnitude of vector from (0,0) to self.\"\"\"\n",
    "        return math.sqrt(self.x ** 2 + self.y ** 2)\n",
    "    \n",
    "    def distance(self, other):\n",
    "        \"\"\"Return Distance Between Two Points\"\"\"\n",
    "        return math.sqrt((self.x-other.x)**2+(self.y-other.y)**2)\n",
    "    \n",
    "    def loc_from_tuple(self, coords):\n",
    "        \"\"\"Allows updating\"\"\"\n",
    "        self.x = coords[0]\n",
    "        self.y = coords[1]\n",
    "        \n",
    "    #def muttup(t1, t2):\n",
    "     #   tx = t1.x + t2.x\n",
    "     #   ty = t1.y + t2.y\n",
    "     #   return Point(tx,ty)\n",
    "    \n",
    "    @classmethod\n",
    "    def from_tuple(cls, coords):\n",
    "        \"\"\"Allow to book tuple instances from Point\"\"\"\n",
    "        return cls(*coords)\n",
    "    \n",
    "    def __str__(self):\n",
    "        return f\"Point at ({self.x}, {self.y})\"\n",
    "    \n",
    "    def __repr__(self):\n",
    "        return f\"Point(x={self.x}, y={self.y})\"\n",
    "               \n",
    "    def __iter__(self):\n",
    "        \"\"\"Allow Points to be Iterable\"\"\"\n",
    "        yield self.x\n",
    "        yield self.y\n",
    "        \n",
    "    def __add__(self, other):\n",
    "        \"\"\"Returns a new point object that sums over two points\"\"\"\n",
    "        x = self.x + other.x\n",
    "        y = self.y + other.y\n",
    "        return Point(x, y)\n",
    "    \n",
    "    def __iadd__(self, other):\n",
    "        \"\"\"Adds a point to self with the += operator\"\"\"\n",
    "        self.x = self.x + other.x\n",
    "        self.y = self.y + other.y\n",
    "        return self\n",
    "    \n",
    "    def __mul__(self, m):\n",
    "        \"\"\"Allow Points to be multiplied\"\"\"\n",
    "        return Point(self.x*m,self.y*m)\n",
    "    \n",
    "    def __rmul__(self, m):\n",
    "        \"\"\"Allow Points to be multiplied in reverse\"\"\"\n",
    "        return Point(m*self.x,m*self.y)\n",
    "\n",
    "class Circle(Point):\n",
    "    \"\"\"Circle(center, radius) where center is a Point instance\"\"\"\n",
    "    def __init__(self, center= None, radius=1):\n",
    "        if center is None:\n",
    "            center = Point(0, 0)\n",
    "        self.center = center\n",
    "        self.radius = radius\n",
    "\n",
    "    @property\n",
    "    def center(self):\n",
    "        return self._center\n",
    "\n",
    "    @center.setter\n",
    "    def center(self, _center):\n",
    "        self._center = _center\n",
    "        if not isinstance(self._center, Point):\n",
    "            raise TypeError(\"The center must be a Point!\")\n",
    "    \n",
    "    @property\n",
    "    def radius(self): \n",
    "        return self._radius\n",
    "    \n",
    "    @radius.setter\n",
    "    def radius(self, radius=1):\n",
    "        if radius >= 0:\n",
    "            self._radius = radius\n",
    "        else:\n",
    "            raise ValueError(\"The radius cannot be negative!\")\n",
    "        \n",
    "    @property\n",
    "    def area(self):\n",
    "        \"\"\"Calculate and return the area of the Circle\"\"\"\n",
    "        return math.pi * self.radius ** 2\n",
    "\n",
    "    @property\n",
    "    def diameter(self):\n",
    "        \"\"\"Calculate and return the diameter of the Circle\"\"\"\n",
    "        return self.radius * 2\n",
    "\n",
    "    @diameter.setter\n",
    "    def diameter(self, diameter):\n",
    "        \"\"\"Set the diameter\"\"\"\n",
    "        if diameter >= 0:\n",
    "            self.radius = diameter / 2\n",
    "        else:\n",
    "            raise ValueError(\"The radius cannot be negative!\")   \n",
    "\n",
    "    @classmethod\n",
    "    def from_tuple(cls, center, radius=1):\n",
    "        return cls(Point(*center), radius) \n",
    "    \n",
    "    def center_from_tuple(self, center):\n",
    "        self.center = Point(*center)\n",
    "        return Circle(self.center, self.radius)  \n",
    "\n",
    "    def __add__(self, other):\n",
    "        \"\"\"Adds two point instances\"\"\"\n",
    "        center = self.center + other.center\n",
    "        radius = self.radius + other.radius\n",
    "        return Circle(center, radius)    \n",
    "    \n",
    "    def __iadd__(self, other):\n",
    "        \"\"\"Adds a point to self with the += operator\"\"\"\n",
    "        self.center = self.center + other.center\n",
    "        self.radius = self.radius + other.radius\n",
    "        return self\n",
    "\n",
    "    def __str__(self):\n",
    "        msg = (\n",
    "         f'Circle with center at ({self.center.x}, '\n",
    "         f'{self.center.y}) and radius {self.radius}'\n",
    "        )\n",
    "        return msg\n",
    "\n",
    "    def __repr__(self):\n",
    "        msg = (\n",
    "            f'Circle(center=Point({self.center.x}, '\n",
    "            f'{self.center.y}), radius={self.radius})'\n",
    "        )\n",
    "        return msg"
   ]
  },
  {
   "cell_type": "code",
   "execution_count": 809,
   "metadata": {
    "scrolled": false
   },
   "outputs": [
    {
     "name": "stderr",
     "output_type": "stream",
     "text": [
      "..............................................\n",
      "----------------------------------------------------------------------\n",
      "Ran 46 tests in 0.041s\n",
      "\n",
      "OK\n"
     ]
    }
   ],
   "source": [
    "import unittest\n",
    "\n",
    "\n",
    "# Helper functions - use these for data verification when appropriate.\n",
    "def point_data(point):\n",
    "    \"\"\"Return tuple of Point data for comparison.\"\"\"\n",
    "    return (point.x, point.y)\n",
    "\n",
    "\n",
    "def circle_data(circle):\n",
    "    \"\"\"Return tuple of Circle data for comparison.\"\"\"\n",
    "    return (\n",
    "        (circle.center.x, circle.center.y),\n",
    "        circle.radius\n",
    "        )\n",
    "\n",
    "\n",
    "class PointTests(unittest.TestCase):\n",
    "\n",
    "    def test_create_point_no_data(self):\n",
    "        \"\"\"P-1. Create a Point with no arguments.\"\"\"\n",
    "        # Create a tuple of what the answer from point_data should be\n",
    "        expected = (0, 0)\n",
    "        # Create a default Point instance.\n",
    "        point = Point()\n",
    "        # Verify that the data of the new Point instance is correct.\n",
    "        self.assertEqual(point_data(point), expected)\n",
    "\n",
    "    def test_create_point_with_data(self):\n",
    "        \"\"\"P-2. Create a Point with values.\"\"\"\n",
    "        expected = (2, 3)\n",
    "        point = Point(2, 3)\n",
    "        self.assertEqual(point_data(point), expected)\n",
    "\n",
    "    def test_point_modification(self):\n",
    "        \"\"\"P-3. Verify modification of x, y works.\"\"\"\n",
    "        expected = (-1, 5)\n",
    "        point = Point()\n",
    "        point.x, point.y = -1, 5\n",
    "        self.assertEqual(point_data(point), expected)\n",
    "\n",
    "    def test_point_iterable(self):\n",
    "        \"\"\"P-4. Verify Point is iterable.\"\"\"\n",
    "        expected = (2, 3)\n",
    "        point = Point(2, 3)\n",
    "        # To be iterable, we should be able to \"unpack\" it.\n",
    "        x, y = point\n",
    "        self.assertEqual((x, y), expected)\n",
    "        # Because it is not an iterator, it can be unpacked more than once.\n",
    "        j, k = point\n",
    "        self.assertEqual((j, k), expected)\n",
    "\n",
    "    def test_point_not_iterator(self):\n",
    "        \"\"\"P-4a. Verify point is not an iterator\"\"\"\n",
    "        point = Point(2, 3)\n",
    "        x = iter(point)\n",
    "        # Make sure that iter(point) does not return self.\n",
    "        self.assertIs(x == point, False)\n",
    "        # We should not be able to call next() on a Point instance.\n",
    "        with self.assertRaises(TypeError):\n",
    "            next(point)\n",
    "\n",
    "    def test_magnitude(self):\n",
    "        \"\"\"P-5. Verify Point magnitude property.\"\"\"\n",
    "        expected = 3.605551275463989\n",
    "        point = Point(2, 3)\n",
    "        self.assertEqual(point.magnitude, expected)\n",
    "\n",
    "    def test_magnitude_changes(self):\n",
    "        \"\"\"P-6. Verify magnitude property changes after Point changed.\"\"\"\n",
    "        expected = 5\n",
    "        point = Point(-1, 6)\n",
    "        point.x, point.y = 3, 4\n",
    "        self.assertEqual(point.magnitude, expected)\n",
    "\n",
    "    def test_distance(self):\n",
    "        \"\"\"P-7. Verify distance between two Point objects.\"\"\"\n",
    "        expected = 5\n",
    "        point1 = Point(2, 3)\n",
    "        point2 = Point(5, 7)\n",
    "        self.assertEqual(point1.distance(point2), expected)\n",
    "\n",
    "    def test_point_addition(self):\n",
    "        \"\"\"P-8. Verify Point addition.\"\"\"\n",
    "        expected1 = (2, 3)\n",
    "        expected2 = (4, 5)\n",
    "        expected3 = (6, 8)\n",
    "        point1 = Point(2, 3)\n",
    "        point2 = Point(4, 5)\n",
    "        point3 = point1 + point2\n",
    "        # Ensure original points unchanged\n",
    "        self.assertEqual(point_data(point1), expected1)\n",
    "        self.assertEqual(point_data(point2), expected2)\n",
    "        # Verify new point is correct\n",
    "        self.assertEqual(point_data(point3), expected3)\n",
    "\n",
    "    def test_point_plus_equal_addition(self):\n",
    "        \"\"\"P-8a. Verify Point += mutating addition.\"\"\"\n",
    "        expected = (6, 8)\n",
    "        point1 = Point(2, 3)\n",
    "        # Save the id to make sure it doesn't change.\n",
    "        id1 = id(point1)\n",
    "        point2 = Point(4, 5)\n",
    "        # Add using +=\n",
    "        point1 += point2\n",
    "        self.assertEqual(point_data(point1), expected)\n",
    "        # Verify point2 has not changed\n",
    "        expected = (4, 5)\n",
    "        self.assertEqual(point_data(point2), expected)\n",
    "        # Verify that point1 is the same object\n",
    "        self.assertEqual(id(point1), id1)\n",
    "\n",
    "    def test_point_str(self):\n",
    "        \"\"\"P-9. Verify Point str result.\"\"\"\n",
    "        expected = \"Point at (2, 3)\"\n",
    "        point = Point(2, 3)\n",
    "        self.assertEqual(str(point), expected)\n",
    "\n",
    "    def test_point_repr(self):\n",
    "        \"\"\"P-10. Verify Point repr result.\"\"\"\n",
    "        expected = \"Point(x=2, y=3)\"\n",
    "        point = Point(2, 3)\n",
    "        self.assertEqual(repr(point), expected)\n",
    "\n",
    "    # Remaining Point tests go here\n",
    "\n",
    "    def test_create_point_from_tuple(self):\n",
    "        \"\"\"P-11. Create a Point using from_tuple.\"\"\"\n",
    "        # Test point = Point.from_tuple(loc)\n",
    "        # where loc is a tuple\n",
    "        # Make sure data is correct.\n",
    "        expected = (3, 4)\n",
    "        point = Point.from_tuple((3, 4))\n",
    "        self.assertEqual(point_data(point), expected)\n",
    "\n",
    "    def test_error_point_from_tuple_no_args(self):\n",
    "        \"\"\"P-12. Verify error when using from_tuple with no arguments\"\"\"\n",
    "        # Test that Point.from_tuple() raises an error\n",
    "        # NOT with try/except; use unittest.\n",
    "        point = Point()\n",
    "        with self.assertRaises(TypeError):\n",
    "            point.from_tuple()\n",
    "\n",
    "    def test_point_mod_loc_from_tuple(self):\n",
    "        \"\"\"P-13. Verify mod of x, y using loc_from_tuple.\"\"\"\n",
    "        # Test point.loc_from_tuple(loc)\n",
    "        # when point is an existing Point and loc is a tuple.\n",
    "        # Make sure data is correct.\n",
    "        expected = (3, 4)\n",
    "        point = Point()\n",
    "        point.loc_from_tuple((3, 4))\n",
    "        self.assertEqual(point_data(point), expected)\n",
    "\n",
    "    def test_point_mod_loc_from_tuple_no_args(self):\n",
    "        \"\"\"P-14. Verify error when using loc_from_tuple with no arguments.\"\"\"\n",
    "        # Test that point.loc_from_tuple() raises an error\n",
    "        # NOT with try/except; use unittest.\n",
    "        point = Point()\n",
    "        with self.assertRaises(TypeError):            \n",
    "            point.loc_from_tuple()\n",
    "\n",
    "    def test_scalar_mult_right(self):\n",
    "        \"\"\"P-15. Verify Point multiplied with scalar.\"\"\"\n",
    "        # Test point2 = point1 * 3\n",
    "        # where point1 is an existing Point instance.\n",
    "        # Make sure that point1 is not modified.\n",
    "        expected = (3, 6)\n",
    "        point1 = Point(1, 2)\n",
    "        point2 = point1 * 3\n",
    "        self.assertIsInstance(point1, Point)\n",
    "        self.assertEqual(point_data(point2), expected)\n",
    "\n",
    "    def test_scalar_mult_left(self):\n",
    "        \"\"\"P-16. Verify scalar multiplied with Point.\"\"\"\n",
    "        # Test point2 = 3 * point1\n",
    "        # where point1 is an existing Point instance.\n",
    "        # Make sure that point1 is not modified.\n",
    "        expected = (3, 6)\n",
    "        point1 = Point(1, 2)\n",
    "        point2 = 3 * point1\n",
    "        self.assertIsInstance(point1, Point)\n",
    "        self.assertEqual(point_data(point2), expected)\n",
    "\n",
    "    def test_scalar_mult_plus_equal(self):\n",
    "        \"\"\"P-17. Verify Point *= mutating multiply with scalar.\"\"\"\n",
    "        # Test point1 *= 3\n",
    "        # where point1 is an existing Point instance.\n",
    "        # Make sure that point1 is modified (not a new Point).\n",
    "        expected = (3, 6)\n",
    "        point1 = Point(1, 2)\n",
    "        point1 *= 3\n",
    "        self.assertIsInstance(point1, Point)\n",
    "        self.assertEqual(point_data(point1), expected)\n",
    "\n",
    "\n",
    "class CircleTests(unittest.TestCase):\n",
    "\n",
    "    def test_circle_point_objects_different(self):\n",
    "        \"\"\"C-0. Make sure Circle centers are different objects for default.\"\"\"\n",
    "        # In other words, they should have the same VALUES,\n",
    "        # But NOT be the same objects.\n",
    "        circle1 = Circle()\n",
    "        circle2 = Circle()\n",
    "        # Make sure they are not the same exact objects.\n",
    "        self.assertIsNot(circle1.center, circle2.center)\n",
    "        # But they should have the same data values.\n",
    "        self.assertEqual(circle_data(circle1), circle_data(circle2))\n",
    "\n",
    "    def test_create_no_input(self):\n",
    "        \"\"\"C-1. Create Circle with no arguments.\"\"\"\n",
    "        # Create a tuple of what the answer from circle_data should be\n",
    "        expected = ((0, 0), 1)\n",
    "        circle = Circle()\n",
    "        self.assertEqual(circle_data(circle), expected)\n",
    "\n",
    "    def test_create_only_point_input(self):\n",
    "        \"\"\"C-2. Create Circle with Point but no radius.\"\"\"\n",
    "        expected = ((2, 3), 1)\n",
    "        circle = Circle(center=Point(2, 3))\n",
    "        self.assertEqual(circle_data(circle), expected)\n",
    "        # Also make sure the circle's center is the same as the point input.\n",
    "        point = Point(2, 3)\n",
    "        point_id = id(point)\n",
    "        circle = Circle(center=point)\n",
    "        self.assertEqual(circle_data(circle), expected)\n",
    "        self.assertEqual(point_id, id(circle.center))\n",
    "\n",
    "    def test_create_only_radius_input(self):\n",
    "        \"\"\"C-3. Create Circle with radius but no Point.\"\"\"\n",
    "        expected = ((0, 0), 2.5)\n",
    "        circle = Circle(radius=2.5)\n",
    "        self.assertEqual(circle_data(circle), expected)\n",
    "        # Make sure radius=0 works (edge case of Circles)\n",
    "        expected = ((0, 0), 0)\n",
    "        circle = Circle(radius=0)\n",
    "        self.assertEqual(circle_data(circle), expected)\n",
    "\n",
    "    def test_create_point_and_radius_input(self):\n",
    "        \"\"\"C-4. Create Circle with Point and radius.\"\"\"\n",
    "        expected = ((2, 3), 1.5)\n",
    "        circle = Circle(center=Point(2, 3), radius=1.5)\n",
    "        self.assertEqual(circle_data(circle), expected)\n",
    "\n",
    "    def test_create_no_keywords(self):\n",
    "        \"\"\"C-5. Create Circle without keywords.\"\"\"\n",
    "        expected = ((2, 3), 1.5)\n",
    "        circle = Circle(Point(2, 3), 1.5)\n",
    "        self.assertEqual(circle_data(circle), expected)\n",
    "\n",
    "    def test_move_center(self):\n",
    "        \"\"\"C-5A. Verify moving center Point of Circle works.\"\"\"\n",
    "        expected = ((6, 2), 1.5)\n",
    "        point = Point(2, 3)\n",
    "        circle = Circle(point, 1.5)\n",
    "        point.x = 6\n",
    "        point.y = 2\n",
    "        self.assertEqual(circle_data(circle), expected)\n",
    "\n",
    "    def test_area(self):\n",
    "        \"\"\"C-6. Verify area property.\"\"\"\n",
    "        expected = 12.566370614359172\n",
    "        circle = Circle(radius=2)\n",
    "        self.assertEqual(circle.area, expected)\n",
    "\n",
    "    # Remaining Circle tests go here\n",
    "\n",
    "    def test_change_radius(self):\n",
    "        \"\"\"C-7. Verify radius attribute change works.\"\"\"\n",
    "        # Test circle.radius = some new number\n",
    "        expected = 1.5\n",
    "        circle = Circle(Point(1, 2), 5)\n",
    "        circle.radius = 1.5\n",
    "        self.assertEqual(circle.radius, expected)\n",
    "\n",
    "    def test_area_changed(self):\n",
    "        \"\"\"C-8. Verify area changes correctly when radius changes.\"\"\"\n",
    "        # Test circle.radius = some new number\n",
    "        # And the circle.area changes correctly.\n",
    "        expected = 2\n",
    "        expected2 = 12.566370614359172\n",
    "        circle = Circle(Point(1, 2), 5)\n",
    "        circle.radius = 2\n",
    "        self.assertEqual(circle.radius, expected)\n",
    "        self.assertEqual(circle.area, expected2)\n",
    "\n",
    "    def test_change_center(self):\n",
    "        \"\"\"C-9. Verify center attribute change works.\"\"\"\n",
    "        # Test circle.center = point\n",
    "        # where point is a Point instance with different data\n",
    "        expected = ((1, 2), 3)\n",
    "        point = Point(x=1, y=2)\n",
    "        circle = Circle(Point(3, 4), radius=3)\n",
    "        circle.center = point\n",
    "        self.assertIsInstance(point, Point)\n",
    "        self.assertEqual(circle_data(circle), expected)\n",
    "\n",
    "    def test_illegal_center_creation(self):\n",
    "        \"\"\"C-10. Verify error if center is not a Point on creation.\"\"\"\n",
    "        # Test something like Circle(center = 1)\n",
    "        # Make sure an error is raised\n",
    "        # NOT with try/except; use unittest.\n",
    "        with self.assertRaises(TypeError) as context:\n",
    "            Circle(center=1)\n",
    "        self.assertTrue('The center must be a Point!', context)\n",
    "\n",
    "    def test_illegal_center_modification(self):\n",
    "        \"\"\"C-11. Verify error if changing center to something not a Point.\"\"\"\n",
    "        # Test something like circle.center = 2\n",
    "        # Make sure an error is raised\n",
    "        # NOT with try/except; use unittest.\n",
    "        circle = Circle(Point(1, 2), radius=1)\n",
    "        with self.assertRaises(TypeError) as context:\n",
    "            circle.center = 2\n",
    "        self.assertTrue('The center must be a Point!', context)\n",
    "\n",
    "    def test_diameter(self):\n",
    "        \"\"\"C-12. Verify diameter property works.\"\"\"\n",
    "        # Create a Circle instance and verify that\n",
    "        # circle.diameter is correct.\n",
    "        # also:\n",
    "        # Verify diameter changes with a radius change\n",
    "        # technically this should be another test function\n",
    "        expected1 = 10\n",
    "        expected2 = 20\n",
    "        circle1 = Circle(Point(1, 2), 5)\n",
    "        circle2 = Circle(Point(1, 2), 5)\n",
    "        circle2.radius = 10\n",
    "        self.assertEqual(circle1.diameter, expected1)\n",
    "        self.assertEqual(circle2.diameter, expected2)\n",
    "\n",
    "    def test_diameter_changes(self):\n",
    "        \"\"\"C-13. Verify diameter changes works.\"\"\"\n",
    "        # Create a Circle instance; change circle.diameter\n",
    "        # Verify that the circle's radius changed correctly\n",
    "        expected = 5\n",
    "        circle = Circle(Point(1, 2), 10)\n",
    "        circle.diameter = 10\n",
    "        self.assertEqual(circle.radius, expected)\n",
    "\n",
    "    def test_create_negative_radius(self):\n",
    "        \"\"\"C-14. Verify error when radius < 0.\"\"\"\n",
    "        # Test something like Circle(center=Point(2, 3), radius=-2)\n",
    "        # Make sure an error is raised\n",
    "        # NOT with try/except; use unittest.\n",
    "        with self.assertRaises(ValueError) as context:\n",
    "            Circle(center=Point(2, 3), radius=-2)\n",
    "        self.assertTrue('The radius cannot be negative!', context)\n",
    "\n",
    "    def test_change_negative_radius(self):\n",
    "        \"\"\"C-15. Verify error when radius changes to be < 0.\"\"\"\n",
    "        # Test changing circle.radius = -2\n",
    "        # Make sure an error is raised\n",
    "        # NOT with try/except; use unittest.\n",
    "        circle = Circle(center=Point(2, 3), radius=2)\n",
    "        with self.assertRaises(ValueError) as context:\n",
    "            circle.radius = -2\n",
    "        self.assertTrue('The radius cannot be negative!', context)\n",
    "\n",
    "    def test_change_negative_diameter(self):\n",
    "        \"\"\"C-16. Verify error when diameter changes to be < 0.\"\"\"\n",
    "        # Test changing circle.diameter = -2\n",
    "        # Make sure an error is raised\n",
    "        # NOT with try/except; use unittest.\n",
    "        circle = Circle(center=Point(2, 3), radius=2)\n",
    "        with self.assertRaises(ValueError) as context:\n",
    "            circle.diameter = -2\n",
    "        self.assertTrue('The radius cannot be negative!', context)\n",
    "\n",
    "    def test_circle_addition(self):\n",
    "        \"\"\"C-17. Verify Circle addition.\"\"\"\n",
    "        # Create 2 circles, add them together, make sure\n",
    "        # the new circle is correct and first 2 circles unchanged.\n",
    "        expected = ((3, 5), 3)\n",
    "        circle1 = Circle(Point(1, 2), radius=1)\n",
    "        circle2 = Circle(Point(2, 3), radius=2)\n",
    "        circle3 = circle1 + circle2\n",
    "        self.assertEqual(circle_data(circle3), expected)\n",
    "\n",
    "    def test_circle_plus_equal_addition(self):\n",
    "        \"\"\"C-17a. Verify Circle += mutating addition.\"\"\"\n",
    "        # Create 2 circles, then do circle1 += circle2\n",
    "        # Make sure circle1 is correct and is the same object.\n",
    "        # Make sure circle2 is unchanged.\n",
    "        circle1 = Circle(Point(1, 2), radius=1)\n",
    "        circle2 = Circle(Point(2, 3), radius=2)\n",
    "        id1 = id(circle1)\n",
    "        id2 = id(circle2)\n",
    "        circle1 += circle2\n",
    "        self.assertEqual(id(circle1), id1)\n",
    "        self.assertEqual(id(circle2), id2)\n",
    "\n",
    "    def test_circle_str(self):\n",
    "        \"\"\"C-18. Verify Circle str result.\"\"\"\n",
    "        # Test str(circle) result is exactly like instructions.\n",
    "        expected = 'Circle with center at (3, 5) and radius 3'\n",
    "        circle = Circle(Point(3, 5), radius=3)\n",
    "        circle_str = str(circle)\n",
    "        self.assertEqual(circle_str, expected)\n",
    "\n",
    "    def test_circle_repr(self):\n",
    "        \"\"\"C-19. Verify Circle repr result.\"\"\"\n",
    "        # Test repr(circle) is exactly like instructions.\n",
    "        expected = 'Circle(center=Point(3, 5), radius=3)'\n",
    "        circle = Circle(Point(3, 5), radius=3)\n",
    "        circle_repr = repr(circle)\n",
    "        self.assertEqual(circle_repr, expected)\n",
    "\n",
    "    def test_circle_create_from_tuple(self):\n",
    "        \"\"\"C-20. Test circle creation using from_tuple.\"\"\"\n",
    "        # Test something like Circle.from_tuple(center=(3, 4), radius=2)\n",
    "        expected = ((3, 4), 2)\n",
    "        circle = Circle.from_tuple(center=(3, 4), radius=2)\n",
    "        self.assertEqual(circle_data(circle), expected)\n",
    "\n",
    "    def test_circle_create_from_tuple_no_args(self):\n",
    "        \"\"\"C-21. Verify error using Circle.from_tuple with no arguments.\"\"\"\n",
    "        # Create a circle with Circle.from_tuple()\n",
    "        # Verify an error occurs.\n",
    "        circle = Circle(Point(3, 5), radius=3)\n",
    "        with self.assertRaises(TypeError):\n",
    "            circle.from_tuple()\n",
    "            \n",
    "    def test_circle_create_from_tuple_only_tuple(self):\n",
    "        \"\"\"C-22. Test circle creation using from_tuple with only tuple.\"\"\"\n",
    "        # Test something like Circle.from_tuple(center=(3, 4))\n",
    "        expected = ((3, 4), 1)\n",
    "        circle = Circle.from_tuple(center=(3, 4))\n",
    "        self.assertEqual(circle_data(circle), expected)\n",
    "\n",
    "    def test_circle_modify_center_from_tuple(self):\n",
    "        \"\"\"C-23. Test circle modify with center_from_tuple method.\"\"\"\n",
    "        # Create a circle and a tuple\n",
    "        # Test circle.center_from_tuple(t)\n",
    "        expected1 = ((3, 7), 1)\n",
    "        expected2 = ((1, 2), 1)\n",
    "        new_center = 3, 7\n",
    "        circle1 = Circle()\n",
    "        circle2 = Circle()\n",
    "        circle1.center_from_tuple(center=new_center)\n",
    "        circle2.center_from_tuple((1, 2))\n",
    "        self.assertEqual(circle_data(circle1), expected1)\n",
    "        self.assertEqual(circle_data(circle2), expected2)\n",
    "\n",
    "    def test_circle_modify_center_from_tuple_no_args(self):\n",
    "        \"\"\"C-24. Verify error using center_from_tuple with no arguments.\"\"\"\n",
    "        # Create a circle and do circle.center_from_tuple()\n",
    "        # Verify an error is raised.\n",
    "        circle = Circle(Point(3, 5), radius=3)\n",
    "        with self.assertRaises(TypeError):\n",
    "            circle.center_from_tuple()\n",
    "\n",
    "if __name__ == \"__main__\":\n",
    "    unittest.main(argv=['first-arg-is-ignored'], exit=False)"
   ]
  },
  {
   "cell_type": "markdown",
   "metadata": {},
   "source": [
    "1. Gather the code you have that fits this project and put it into shapes.py. Only use code that is needed for this project and discard what does not apply. (I'm looking at you, radius_log ; you don't belong here.)\n",
    "2. Write only code and tests for what you start with, and make sure the tests pass.\n",
    "3. Decide what you are going to implement next,then write the test(s)for that.\n",
    "4. Write the code to pass the test(s).\n",
    "5. Repeat steps 3 & 4 until done."
   ]
  },
  {
   "cell_type": "markdown",
   "metadata": {},
   "source": [
    "# POINT"
   ]
  },
  {
   "cell_type": "markdown",
   "metadata": {},
   "source": [
    "1. Points should have a distance method that accepts another Point object and returns the distance between the points.\n",
    "\n",
    "\n",
    "2. Points should be iterable. And more than once, as they are not iterators. Remember, iterators are single-use iterables. Hint: It's in the Iteration lecture.\n",
    "\n",
    "\n",
    "3. Adding two points should return a new Point object, without modifying the original points\n",
    "\n",
    "\n",
    "4. We should also be able to do addition of Points with the shorthand method of augmented arithmetic, using += . Please note this is a mutating method; in other words, it modifies the existing point and does not create a new Point object.\n",
    "\n",
    "\n",
    "5. Multiplication of a point by a scalar should return a new Point object, without modifying the original point. Likewise, multiplication of a scalar by a point should return a new Point object, without modifying the original point.\n",
    "\n",
    "\n",
    "6. Add a method loc_from_tuple that allows updating the x, y values of a Point instance from a tuple. This is a mutating method and does not create a new Point instance! Returning self is optional but allows chaining of methods. Code it so the tuple input is required; use no default parameters so the system will automatically raise an error if no input is given, as shown below. Do not try to raise the error yourself; it comes for free if you code the method with no defaults.\n",
    "\n",
    "\n",
    "7. Add a @classmethod called from_tuple to the Point class that allows creation of Point instances from a tuple containing the x and y values. The handout \"More about Classes\" from week 5 has more information about class methods. As in loc_from_tuple, code it so the tuple input is required.\n",
    "\n",
    "\n",
    "8. Note that unlike most of the methods, I am not requiring a particular name for the input argument to from_tuple ; I used coords in my version."
   ]
  },
  {
   "cell_type": "code",
   "execution_count": 42,
   "metadata": {},
   "outputs": [
    {
     "data": {
      "text/plain": [
       "2"
      ]
     },
     "execution_count": 42,
     "metadata": {},
     "output_type": "execute_result"
    }
   ],
   "source": [
    "point.x"
   ]
  },
  {
   "cell_type": "code",
   "execution_count": 43,
   "metadata": {},
   "outputs": [
    {
     "data": {
      "text/plain": [
       "3"
      ]
     },
     "execution_count": 43,
     "metadata": {},
     "output_type": "execute_result"
    }
   ],
   "source": [
    "point.y"
   ]
  },
  {
   "cell_type": "code",
   "execution_count": 44,
   "metadata": {},
   "outputs": [],
   "source": [
    "point = Point(y=5.3, x=8.75)"
   ]
  },
  {
   "cell_type": "code",
   "execution_count": 45,
   "metadata": {},
   "outputs": [
    {
     "data": {
      "text/plain": [
       "(8.75, 5.3)"
      ]
     },
     "execution_count": 45,
     "metadata": {},
     "output_type": "execute_result"
    }
   ],
   "source": [
    "point.x, point.y"
   ]
  },
  {
   "cell_type": "code",
   "execution_count": 46,
   "metadata": {},
   "outputs": [],
   "source": [
    "point = Point()"
   ]
  },
  {
   "cell_type": "code",
   "execution_count": 47,
   "metadata": {
    "scrolled": true
   },
   "outputs": [
    {
     "data": {
      "text/plain": [
       "(0, 0)"
      ]
     },
     "execution_count": 47,
     "metadata": {},
     "output_type": "execute_result"
    }
   ],
   "source": [
    "point.x, point.y"
   ]
  },
  {
   "cell_type": "code",
   "execution_count": 48,
   "metadata": {},
   "outputs": [],
   "source": [
    "point = Point(2, 3.5)"
   ]
  },
  {
   "cell_type": "code",
   "execution_count": 49,
   "metadata": {},
   "outputs": [
    {
     "data": {
      "text/plain": [
       "Point(x=2, y=3.5)"
      ]
     },
     "execution_count": 49,
     "metadata": {},
     "output_type": "execute_result"
    }
   ],
   "source": [
    "point"
   ]
  },
  {
   "cell_type": "code",
   "execution_count": 50,
   "metadata": {},
   "outputs": [
    {
     "name": "stdout",
     "output_type": "stream",
     "text": [
      "Point at (2, 3.5)\n"
     ]
    }
   ],
   "source": [
    "print(point)"
   ]
  },
  {
   "cell_type": "code",
   "execution_count": 51,
   "metadata": {},
   "outputs": [],
   "source": [
    "point = Point()"
   ]
  },
  {
   "cell_type": "code",
   "execution_count": 52,
   "metadata": {},
   "outputs": [
    {
     "data": {
      "text/plain": [
       "Point(x=0, y=0)"
      ]
     },
     "execution_count": 52,
     "metadata": {},
     "output_type": "execute_result"
    }
   ],
   "source": [
    "point"
   ]
  },
  {
   "cell_type": "code",
   "execution_count": 53,
   "metadata": {},
   "outputs": [
    {
     "data": {
      "text/plain": [
       "'Point(x=0, y=0)'"
      ]
     },
     "execution_count": 53,
     "metadata": {},
     "output_type": "execute_result"
    }
   ],
   "source": [
    "repr(point)"
   ]
  },
  {
   "cell_type": "code",
   "execution_count": 55,
   "metadata": {},
   "outputs": [
    {
     "data": {
      "text/plain": [
       "'Point(x=0, y=0)'"
      ]
     },
     "execution_count": 55,
     "metadata": {},
     "output_type": "execute_result"
    }
   ],
   "source": [
    "point.__repr__()"
   ]
  },
  {
   "cell_type": "code",
   "execution_count": 56,
   "metadata": {},
   "outputs": [
    {
     "data": {
      "text/plain": [
       "'Point at (0, 0)'"
      ]
     },
     "execution_count": 56,
     "metadata": {},
     "output_type": "execute_result"
    }
   ],
   "source": [
    "str(point)"
   ]
  },
  {
   "cell_type": "code",
   "execution_count": 57,
   "metadata": {},
   "outputs": [
    {
     "name": "stdout",
     "output_type": "stream",
     "text": [
      "Point at (0, 0)\n"
     ]
    }
   ],
   "source": [
    "print(point)"
   ]
  },
  {
   "cell_type": "code",
   "execution_count": 67,
   "metadata": {},
   "outputs": [],
   "source": [
    "point1 = Point(2, 3)"
   ]
  },
  {
   "cell_type": "code",
   "execution_count": 68,
   "metadata": {},
   "outputs": [],
   "source": [
    "point2 = Point(5, 7)"
   ]
  },
  {
   "cell_type": "code",
   "execution_count": 69,
   "metadata": {},
   "outputs": [
    {
     "data": {
      "text/plain": [
       "3.605551275463989"
      ]
     },
     "execution_count": 69,
     "metadata": {},
     "output_type": "execute_result"
    }
   ],
   "source": [
    "point1.magnitude"
   ]
  },
  {
   "cell_type": "code",
   "execution_count": 70,
   "metadata": {},
   "outputs": [
    {
     "data": {
      "text/plain": [
       "5.0"
      ]
     },
     "execution_count": 70,
     "metadata": {},
     "output_type": "execute_result"
    }
   ],
   "source": [
    "point1.distance(point2)"
   ]
  },
  {
   "cell_type": "code",
   "execution_count": 71,
   "metadata": {},
   "outputs": [],
   "source": [
    "point = Point()"
   ]
  },
  {
   "cell_type": "code",
   "execution_count": 72,
   "metadata": {},
   "outputs": [
    {
     "data": {
      "text/plain": [
       "Point(x=0, y=0)"
      ]
     },
     "execution_count": 72,
     "metadata": {},
     "output_type": "execute_result"
    }
   ],
   "source": [
    "point"
   ]
  },
  {
   "cell_type": "code",
   "execution_count": 73,
   "metadata": {},
   "outputs": [],
   "source": [
    "point.x = 4.75"
   ]
  },
  {
   "cell_type": "code",
   "execution_count": 74,
   "metadata": {},
   "outputs": [],
   "source": [
    "point.y = 7.5"
   ]
  },
  {
   "cell_type": "code",
   "execution_count": 75,
   "metadata": {},
   "outputs": [
    {
     "data": {
      "text/plain": [
       "Point(x=4.75, y=7.5)"
      ]
     },
     "execution_count": 75,
     "metadata": {},
     "output_type": "execute_result"
    }
   ],
   "source": [
    "point"
   ]
  },
  {
   "cell_type": "code",
   "execution_count": 76,
   "metadata": {},
   "outputs": [],
   "source": [
    "point = Point(2, 3)"
   ]
  },
  {
   "cell_type": "code",
   "execution_count": 77,
   "metadata": {},
   "outputs": [],
   "source": [
    "x, y = point"
   ]
  },
  {
   "cell_type": "code",
   "execution_count": 78,
   "metadata": {},
   "outputs": [
    {
     "name": "stdout",
     "output_type": "stream",
     "text": [
      "Point at (2, 3)\n"
     ]
    }
   ],
   "source": [
    "print(point)"
   ]
  },
  {
   "cell_type": "code",
   "execution_count": 128,
   "metadata": {},
   "outputs": [],
   "source": [
    "point1 = Point(2, 3)"
   ]
  },
  {
   "cell_type": "code",
   "execution_count": 129,
   "metadata": {},
   "outputs": [],
   "source": [
    "point2 = Point(4, 5)"
   ]
  },
  {
   "cell_type": "code",
   "execution_count": 130,
   "metadata": {},
   "outputs": [],
   "source": [
    "id1 = id(point1)"
   ]
  },
  {
   "cell_type": "code",
   "execution_count": 131,
   "metadata": {},
   "outputs": [],
   "source": [
    "point1 += point2"
   ]
  },
  {
   "cell_type": "code",
   "execution_count": 132,
   "metadata": {},
   "outputs": [
    {
     "data": {
      "text/plain": [
       "Point(x=6, y=8)"
      ]
     },
     "execution_count": 132,
     "metadata": {},
     "output_type": "execute_result"
    }
   ],
   "source": [
    "point1"
   ]
  },
  {
   "cell_type": "code",
   "execution_count": 133,
   "metadata": {},
   "outputs": [
    {
     "data": {
      "text/plain": [
       "False"
      ]
     },
     "execution_count": 133,
     "metadata": {},
     "output_type": "execute_result"
    }
   ],
   "source": [
    "id1 == id(point1)"
   ]
  },
  {
   "cell_type": "code",
   "execution_count": 140,
   "metadata": {},
   "outputs": [
    {
     "data": {
      "text/plain": [
       "Point(x=4, y=5)"
      ]
     },
     "execution_count": 140,
     "metadata": {},
     "output_type": "execute_result"
    }
   ],
   "source": [
    "point2"
   ]
  },
  {
   "cell_type": "code",
   "execution_count": 139,
   "metadata": {},
   "outputs": [],
   "source": [
    "id2 = id(point2)"
   ]
  },
  {
   "cell_type": "code",
   "execution_count": 138,
   "metadata": {},
   "outputs": [
    {
     "name": "stdout",
     "output_type": "stream",
     "text": [
      "4470089376\n"
     ]
    }
   ],
   "source": [
    "print(id2)"
   ]
  },
  {
   "cell_type": "code",
   "execution_count": 83,
   "metadata": {},
   "outputs": [],
   "source": [
    "point3 = point1 + point2"
   ]
  },
  {
   "cell_type": "code",
   "execution_count": 99,
   "metadata": {},
   "outputs": [],
   "source": [
    "point1 = Point(2, 3)"
   ]
  },
  {
   "cell_type": "code",
   "execution_count": 100,
   "metadata": {},
   "outputs": [],
   "source": [
    "point3 = point1 * 3"
   ]
  },
  {
   "cell_type": "code",
   "execution_count": 101,
   "metadata": {},
   "outputs": [
    {
     "data": {
      "text/plain": [
       "Point(x=6, y=9)"
      ]
     },
     "execution_count": 101,
     "metadata": {},
     "output_type": "execute_result"
    }
   ],
   "source": [
    "point3"
   ]
  },
  {
   "cell_type": "code",
   "execution_count": 102,
   "metadata": {},
   "outputs": [],
   "source": [
    "point2 = Point(4, 5)"
   ]
  },
  {
   "cell_type": "code",
   "execution_count": 103,
   "metadata": {},
   "outputs": [],
   "source": [
    "point4 = 2 * point2"
   ]
  },
  {
   "cell_type": "code",
   "execution_count": 104,
   "metadata": {},
   "outputs": [
    {
     "data": {
      "text/plain": [
       "Point(x=8, y=10)"
      ]
     },
     "execution_count": 104,
     "metadata": {},
     "output_type": "execute_result"
    }
   ],
   "source": [
    "point4"
   ]
  },
  {
   "cell_type": "code",
   "execution_count": 105,
   "metadata": {},
   "outputs": [],
   "source": [
    "id1 = id(point1)"
   ]
  },
  {
   "cell_type": "code",
   "execution_count": 106,
   "metadata": {},
   "outputs": [],
   "source": [
    "point1 *= 4"
   ]
  },
  {
   "cell_type": "code",
   "execution_count": 107,
   "metadata": {},
   "outputs": [
    {
     "data": {
      "text/plain": [
       "Point(x=8, y=12)"
      ]
     },
     "execution_count": 107,
     "metadata": {},
     "output_type": "execute_result"
    }
   ],
   "source": [
    "point1"
   ]
  },
  {
   "cell_type": "code",
   "execution_count": 108,
   "metadata": {},
   "outputs": [
    {
     "data": {
      "text/plain": [
       "False"
      ]
     },
     "execution_count": 108,
     "metadata": {},
     "output_type": "execute_result"
    }
   ],
   "source": [
    "id1 == id(point1)"
   ]
  },
  {
   "cell_type": "code",
   "execution_count": 24,
   "metadata": {},
   "outputs": [],
   "source": [
    "point = Point(3, 4)"
   ]
  },
  {
   "cell_type": "code",
   "execution_count": 25,
   "metadata": {},
   "outputs": [],
   "source": [
    "p_id = id(point)"
   ]
  },
  {
   "cell_type": "code",
   "execution_count": 26,
   "metadata": {},
   "outputs": [],
   "source": [
    "point.loc_from_tuple((5, 6))"
   ]
  },
  {
   "cell_type": "code",
   "execution_count": 27,
   "metadata": {},
   "outputs": [
    {
     "data": {
      "text/plain": [
       "Point(x=5, y=6)"
      ]
     },
     "execution_count": 27,
     "metadata": {},
     "output_type": "execute_result"
    }
   ],
   "source": [
    "point"
   ]
  },
  {
   "cell_type": "code",
   "execution_count": 28,
   "metadata": {},
   "outputs": [
    {
     "data": {
      "text/plain": [
       "True"
      ]
     },
     "execution_count": 28,
     "metadata": {},
     "output_type": "execute_result"
    }
   ],
   "source": [
    "id(point) == p_id"
   ]
  },
  {
   "cell_type": "code",
   "execution_count": 29,
   "metadata": {},
   "outputs": [
    {
     "ename": "TypeError",
     "evalue": "loc_from_tuple() missing 1 required positional argument: 'coords'",
     "output_type": "error",
     "traceback": [
      "\u001b[0;31m---------------------------------------------------------------------------\u001b[0m",
      "\u001b[0;31mTypeError\u001b[0m                                 Traceback (most recent call last)",
      "\u001b[0;32m<ipython-input-29-35189ee85af3>\u001b[0m in \u001b[0;36m<module>\u001b[0;34m()\u001b[0m\n\u001b[0;32m----> 1\u001b[0;31m \u001b[0mpoint\u001b[0m\u001b[0;34m.\u001b[0m\u001b[0mloc_from_tuple\u001b[0m\u001b[0;34m(\u001b[0m\u001b[0;34m)\u001b[0m\u001b[0;34m\u001b[0m\u001b[0m\n\u001b[0m",
      "\u001b[0;31mTypeError\u001b[0m: loc_from_tuple() missing 1 required positional argument: 'coords'"
     ]
    }
   ],
   "source": [
    "point.loc_from_tuple()"
   ]
  },
  {
   "cell_type": "code",
   "execution_count": 30,
   "metadata": {},
   "outputs": [],
   "source": [
    "location = 2, 3"
   ]
  },
  {
   "cell_type": "code",
   "execution_count": 31,
   "metadata": {},
   "outputs": [
    {
     "data": {
      "text/plain": [
       "(2, 3)"
      ]
     },
     "execution_count": 31,
     "metadata": {},
     "output_type": "execute_result"
    }
   ],
   "source": [
    "location"
   ]
  },
  {
   "cell_type": "code",
   "execution_count": 32,
   "metadata": {
    "scrolled": false
   },
   "outputs": [],
   "source": [
    "point = point.from_tuple(location)"
   ]
  },
  {
   "cell_type": "code",
   "execution_count": 610,
   "metadata": {},
   "outputs": [],
   "source": [
    "class Circle(Point):\n",
    "    \"\"\"Circle(center, radius) where center is a Point instance\"\"\"\n",
    "    def __init__(self, center= Point(0,0), radius=1):\n",
    "        self.center = center\n",
    "        self.radius = radius\n",
    "\n",
    "    @property\n",
    "    def center(self):\n",
    "        return self._center\n",
    "\n",
    "    @center.setter\n",
    "    def center(self, _center):\n",
    "        self._center = _center\n",
    "        if not isinstance(self._center, Point):\n",
    "            raise TypeError(\"The center must be a Point!\")\n",
    "    \n",
    "    @property\n",
    "    def radius(self): \n",
    "        return self._radius\n",
    "    \n",
    "    @radius.setter\n",
    "    def radius(self, radius=1):\n",
    "        if radius >= 0:\n",
    "            self._radius = radius\n",
    "        else:\n",
    "            raise ValueError(\"The radius cannot be negative!\")\n",
    "        \n",
    "    @property\n",
    "    def area(self):\n",
    "        \"\"\"Calculate and return the area of the Circle\"\"\"\n",
    "        return math.pi * self.radius ** 2\n",
    "\n",
    "    @property\n",
    "    def diameter(self):\n",
    "        \"\"\"Calculate and return the diameter of the Circle\"\"\"\n",
    "        return self.radius * 2\n",
    "\n",
    "    @diameter.setter\n",
    "    def diameter(self, diameter):\n",
    "        \"\"\"Set the diameter\"\"\"\n",
    "        if diameter >= 0:\n",
    "            self.radius = diameter / 2\n",
    "        else:\n",
    "            raise ValueError(\"The radius cannot be negative!\")   \n",
    "\n",
    "    @classmethod\n",
    "    def from_tuple(cls, center, radius=1):\n",
    "        return cls(Point(*center), radius) \n",
    "    \n",
    "    def center_from_tuple(self, center):\n",
    "        self.center = Point(*center)\n",
    "        return Circle(self.center, self.radius)  \n",
    "\n",
    "    def __add__(self, other):\n",
    "        return Circle(self.center + other.center, self.radius + other.radius)\n",
    "    \n",
    "    def __iadd__(self, other):\n",
    "        return Circle(self.center + other.center, self.radius + other.radius)\n",
    "\n",
    "    def __str__(self):\n",
    "        return f\"Circle with center at ({self.center.x}, {self.center.y}) and radius {self.radius}\"\n",
    "\n",
    "    def __repr__(self):\n",
    "        return f\"Circle(center=Point({self.center.x}, {self.center.y}), radius={self.radius})\""
   ]
  },
  {
   "cell_type": "code",
   "execution_count": 611,
   "metadata": {},
   "outputs": [],
   "source": [
    "circle = Circle(Point(2, 3), 2)"
   ]
  },
  {
   "cell_type": "code",
   "execution_count": 612,
   "metadata": {},
   "outputs": [
    {
     "name": "stdout",
     "output_type": "stream",
     "text": [
      "Circle with center at (2, 3) and radius 2\n"
     ]
    }
   ],
   "source": [
    "print(circle)"
   ]
  },
  {
   "cell_type": "code",
   "execution_count": 613,
   "metadata": {},
   "outputs": [
    {
     "data": {
      "text/plain": [
       "Circle(center=Point(2, 3), radius=2)"
      ]
     },
     "execution_count": 613,
     "metadata": {},
     "output_type": "execute_result"
    }
   ],
   "source": [
    "circle"
   ]
  },
  {
   "cell_type": "code",
   "execution_count": 614,
   "metadata": {},
   "outputs": [],
   "source": [
    "id1 = id(circle)"
   ]
  },
  {
   "cell_type": "code",
   "execution_count": 615,
   "metadata": {},
   "outputs": [
    {
     "name": "stdout",
     "output_type": "stream",
     "text": [
      "Circle with center at (2, 3) and radius 2\n"
     ]
    }
   ],
   "source": [
    "print(circle)"
   ]
  },
  {
   "cell_type": "code",
   "execution_count": 616,
   "metadata": {},
   "outputs": [],
   "source": [
    "new_center = 4, 5"
   ]
  },
  {
   "cell_type": "code",
   "execution_count": 617,
   "metadata": {},
   "outputs": [
    {
     "data": {
      "text/plain": [
       "Circle(center=Point(4, 5), radius=2)"
      ]
     },
     "execution_count": 617,
     "metadata": {},
     "output_type": "execute_result"
    }
   ],
   "source": [
    "circle.center_from_tuple(center=new_center)"
   ]
  },
  {
   "cell_type": "code",
   "execution_count": 566,
   "metadata": {},
   "outputs": [
    {
     "data": {
      "text/plain": [
       "Circle(center=Point(4, 5), radius=2)"
      ]
     },
     "execution_count": 566,
     "metadata": {},
     "output_type": "execute_result"
    }
   ],
   "source": [
    "circle"
   ]
  },
  {
   "cell_type": "code",
   "execution_count": 330,
   "metadata": {},
   "outputs": [],
   "source": [
    "point1 = Point(2, 3)"
   ]
  },
  {
   "cell_type": "code",
   "execution_count": null,
   "metadata": {},
   "outputs": [],
   "source": []
  },
  {
   "cell_type": "code",
   "execution_count": 331,
   "metadata": {},
   "outputs": [],
   "source": [
    "circle1 = Circle(center=point1, radius = 2)"
   ]
  },
  {
   "cell_type": "code",
   "execution_count": 332,
   "metadata": {},
   "outputs": [
    {
     "data": {
      "text/plain": [
       "Point(x=2, y=3)"
      ]
     },
     "execution_count": 332,
     "metadata": {},
     "output_type": "execute_result"
    }
   ],
   "source": [
    "circle1.center"
   ]
  },
  {
   "cell_type": "code",
   "execution_count": 333,
   "metadata": {},
   "outputs": [
    {
     "name": "stdout",
     "output_type": "stream",
     "text": [
      "Point at (2, 3)\n"
     ]
    }
   ],
   "source": [
    "print(circle1.center)"
   ]
  },
  {
   "cell_type": "code",
   "execution_count": 334,
   "metadata": {},
   "outputs": [
    {
     "data": {
      "text/plain": [
       "2"
      ]
     },
     "execution_count": 334,
     "metadata": {},
     "output_type": "execute_result"
    }
   ],
   "source": [
    "circle1.radius"
   ]
  },
  {
   "cell_type": "code",
   "execution_count": 335,
   "metadata": {},
   "outputs": [],
   "source": [
    "point2 = Point(y=5, x=8)"
   ]
  },
  {
   "cell_type": "code",
   "execution_count": 336,
   "metadata": {},
   "outputs": [],
   "source": [
    "circle2 = Circle(point2, 3)"
   ]
  },
  {
   "cell_type": "code",
   "execution_count": 337,
   "metadata": {},
   "outputs": [
    {
     "data": {
      "text/plain": [
       "Circle(center=Point(8, 5), radius=3)"
      ]
     },
     "execution_count": 337,
     "metadata": {},
     "output_type": "execute_result"
    }
   ],
   "source": [
    "circle2"
   ]
  },
  {
   "cell_type": "code",
   "execution_count": 338,
   "metadata": {},
   "outputs": [
    {
     "data": {
      "text/plain": [
       "Point(x=8, y=5)"
      ]
     },
     "execution_count": 338,
     "metadata": {},
     "output_type": "execute_result"
    }
   ],
   "source": [
    "circle2.center"
   ]
  },
  {
   "cell_type": "code",
   "execution_count": 339,
   "metadata": {},
   "outputs": [
    {
     "data": {
      "text/plain": [
       "3"
      ]
     },
     "execution_count": 339,
     "metadata": {},
     "output_type": "execute_result"
    }
   ],
   "source": [
    "circle2.radius"
   ]
  },
  {
   "cell_type": "code",
   "execution_count": 340,
   "metadata": {},
   "outputs": [],
   "source": [
    "point3 = Point(4, 5)"
   ]
  },
  {
   "cell_type": "code",
   "execution_count": 341,
   "metadata": {},
   "outputs": [],
   "source": [
    "circle2.center = point3"
   ]
  },
  {
   "cell_type": "code",
   "execution_count": 342,
   "metadata": {},
   "outputs": [
    {
     "data": {
      "text/plain": [
       "Circle(center=Point(4, 5), radius=3)"
      ]
     },
     "execution_count": 342,
     "metadata": {},
     "output_type": "execute_result"
    }
   ],
   "source": [
    "circle2"
   ]
  },
  {
   "cell_type": "code",
   "execution_count": 343,
   "metadata": {},
   "outputs": [],
   "source": [
    "circle2.radius = 3.75"
   ]
  },
  {
   "cell_type": "code",
   "execution_count": 344,
   "metadata": {},
   "outputs": [
    {
     "data": {
      "text/plain": [
       "Circle(center=Point(4, 5), radius=3.75)"
      ]
     },
     "execution_count": 344,
     "metadata": {},
     "output_type": "execute_result"
    }
   ],
   "source": [
    "circle2"
   ]
  },
  {
   "cell_type": "code",
   "execution_count": 345,
   "metadata": {},
   "outputs": [],
   "source": [
    "point1 = Point(2.75, 3)"
   ]
  },
  {
   "cell_type": "code",
   "execution_count": 346,
   "metadata": {},
   "outputs": [],
   "source": [
    "circle = Circle(center=point1, radius = 1.5)"
   ]
  },
  {
   "cell_type": "code",
   "execution_count": 347,
   "metadata": {},
   "outputs": [
    {
     "data": {
      "text/plain": [
       "Circle(center=Point(2.75, 3), radius=1.5)"
      ]
     },
     "execution_count": 347,
     "metadata": {},
     "output_type": "execute_result"
    }
   ],
   "source": [
    "circle"
   ]
  },
  {
   "cell_type": "code",
   "execution_count": 348,
   "metadata": {},
   "outputs": [
    {
     "name": "stdout",
     "output_type": "stream",
     "text": [
      "Circle with center at (2.75, 3) and radius 1.5\n"
     ]
    }
   ],
   "source": [
    "print(circle)"
   ]
  },
  {
   "cell_type": "code",
   "execution_count": 349,
   "metadata": {},
   "outputs": [],
   "source": [
    "circle = Circle()"
   ]
  },
  {
   "cell_type": "code",
   "execution_count": 350,
   "metadata": {},
   "outputs": [
    {
     "data": {
      "text/plain": [
       "Circle(center=Point(0, 0), radius=1)"
      ]
     },
     "execution_count": 350,
     "metadata": {},
     "output_type": "execute_result"
    }
   ],
   "source": [
    "circle"
   ]
  },
  {
   "cell_type": "code",
   "execution_count": 351,
   "metadata": {},
   "outputs": [
    {
     "name": "stdout",
     "output_type": "stream",
     "text": [
      "Circle with center at (0, 0) and radius 1\n"
     ]
    }
   ],
   "source": [
    "print(circle)"
   ]
  },
  {
   "cell_type": "code",
   "execution_count": 352,
   "metadata": {},
   "outputs": [],
   "source": [
    "circle = Circle(Point(1, 2), 2)"
   ]
  },
  {
   "cell_type": "code",
   "execution_count": 353,
   "metadata": {},
   "outputs": [
    {
     "data": {
      "text/plain": [
       "2"
      ]
     },
     "execution_count": 353,
     "metadata": {},
     "output_type": "execute_result"
    }
   ],
   "source": [
    "circle.radius"
   ]
  },
  {
   "cell_type": "code",
   "execution_count": 354,
   "metadata": {},
   "outputs": [
    {
     "data": {
      "text/plain": [
       "4"
      ]
     },
     "execution_count": 354,
     "metadata": {},
     "output_type": "execute_result"
    }
   ],
   "source": [
    "circle.diameter"
   ]
  },
  {
   "cell_type": "code",
   "execution_count": 355,
   "metadata": {},
   "outputs": [
    {
     "data": {
      "text/plain": [
       "12.566370614359172"
      ]
     },
     "execution_count": 355,
     "metadata": {},
     "output_type": "execute_result"
    }
   ],
   "source": [
    "circle.area"
   ]
  },
  {
   "cell_type": "code",
   "execution_count": 356,
   "metadata": {},
   "outputs": [
    {
     "ename": "ValueError",
     "evalue": "The radius cannot be negative!",
     "output_type": "error",
     "traceback": [
      "\u001b[0;31m---------------------------------------------------------------------------\u001b[0m",
      "\u001b[0;31mValueError\u001b[0m                                Traceback (most recent call last)",
      "\u001b[0;32m<ipython-input-356-df0958a1d44b>\u001b[0m in \u001b[0;36m<module>\u001b[0;34m()\u001b[0m\n\u001b[0;32m----> 1\u001b[0;31m \u001b[0mcircle\u001b[0m\u001b[0;34m.\u001b[0m\u001b[0mradius\u001b[0m \u001b[0;34m=\u001b[0m \u001b[0;34m-\u001b[0m\u001b[0;36m1\u001b[0m\u001b[0;34m\u001b[0m\u001b[0m\n\u001b[0m",
      "\u001b[0;32m<ipython-input-329-0506b81f8cbb>\u001b[0m in \u001b[0;36mradius\u001b[0;34m(self, radius)\u001b[0m\n\u001b[1;32m     24\u001b[0m             \u001b[0mself\u001b[0m\u001b[0;34m.\u001b[0m\u001b[0m_radius\u001b[0m \u001b[0;34m=\u001b[0m \u001b[0mradius\u001b[0m\u001b[0;34m\u001b[0m\u001b[0m\n\u001b[1;32m     25\u001b[0m         \u001b[0;32melse\u001b[0m\u001b[0;34m:\u001b[0m\u001b[0;34m\u001b[0m\u001b[0m\n\u001b[0;32m---> 26\u001b[0;31m             \u001b[0;32mraise\u001b[0m \u001b[0mValueError\u001b[0m\u001b[0;34m(\u001b[0m\u001b[0;34m\"The radius cannot be negative!\"\u001b[0m\u001b[0;34m)\u001b[0m\u001b[0;34m\u001b[0m\u001b[0m\n\u001b[0m\u001b[1;32m     27\u001b[0m \u001b[0;34m\u001b[0m\u001b[0m\n\u001b[1;32m     28\u001b[0m     \u001b[0;34m@\u001b[0m\u001b[0mproperty\u001b[0m\u001b[0;34m\u001b[0m\u001b[0m\n",
      "\u001b[0;31mValueError\u001b[0m: The radius cannot be negative!"
     ]
    }
   ],
   "source": [
    "circle.radius = -1"
   ]
  },
  {
   "cell_type": "code",
   "execution_count": 192,
   "metadata": {},
   "outputs": [
    {
     "ename": "ValueError",
     "evalue": "The radius cannot be negative!",
     "output_type": "error",
     "traceback": [
      "\u001b[0;31m---------------------------------------------------------------------------\u001b[0m",
      "\u001b[0;31mValueError\u001b[0m                                Traceback (most recent call last)",
      "\u001b[0;32m<ipython-input-192-0eea95c446b9>\u001b[0m in \u001b[0;36m<module>\u001b[0;34m()\u001b[0m\n\u001b[0;32m----> 1\u001b[0;31m \u001b[0mcircle\u001b[0m\u001b[0;34m.\u001b[0m\u001b[0mdiameter\u001b[0m \u001b[0;34m=\u001b[0m \u001b[0;34m-\u001b[0m\u001b[0;36m1\u001b[0m\u001b[0;34m\u001b[0m\u001b[0m\n\u001b[0m",
      "\u001b[0;32m<ipython-input-186-726f7d13fc59>\u001b[0m in \u001b[0;36mdiameter\u001b[0;34m(self, diameter)\u001b[0m\n\u001b[1;32m     43\u001b[0m             \u001b[0mself\u001b[0m\u001b[0;34m.\u001b[0m\u001b[0mradius\u001b[0m \u001b[0;34m=\u001b[0m \u001b[0mdiameter\u001b[0m \u001b[0;34m/\u001b[0m \u001b[0;36m2\u001b[0m\u001b[0;34m\u001b[0m\u001b[0m\n\u001b[1;32m     44\u001b[0m         \u001b[0;32melse\u001b[0m\u001b[0;34m:\u001b[0m\u001b[0;34m\u001b[0m\u001b[0m\n\u001b[0;32m---> 45\u001b[0;31m             \u001b[0;32mraise\u001b[0m \u001b[0mValueError\u001b[0m\u001b[0;34m(\u001b[0m\u001b[0;34m\"The radius cannot be negative!\"\u001b[0m\u001b[0;34m)\u001b[0m\u001b[0;34m\u001b[0m\u001b[0m\n\u001b[0m\u001b[1;32m     46\u001b[0m \u001b[0;34m\u001b[0m\u001b[0m\n\u001b[1;32m     47\u001b[0m     \u001b[0;34m@\u001b[0m\u001b[0mclassmethod\u001b[0m\u001b[0;34m\u001b[0m\u001b[0m\n",
      "\u001b[0;31mValueError\u001b[0m: The radius cannot be negative!"
     ]
    }
   ],
   "source": [
    "circle.diameter = -1"
   ]
  },
  {
   "cell_type": "code",
   "execution_count": 314,
   "metadata": {},
   "outputs": [],
   "source": [
    "circle = Circle(Point(1, 2), 2)"
   ]
  },
  {
   "cell_type": "code",
   "execution_count": 315,
   "metadata": {},
   "outputs": [
    {
     "name": "stdout",
     "output_type": "stream",
     "text": [
      "Circle with center at (1, 2) and radius 2\n"
     ]
    }
   ],
   "source": [
    "print(circle)"
   ]
  },
  {
   "cell_type": "code",
   "execution_count": 316,
   "metadata": {},
   "outputs": [
    {
     "data": {
      "text/plain": [
       "Circle(center=Point(1, 2), radius=2)"
      ]
     },
     "execution_count": 316,
     "metadata": {},
     "output_type": "execute_result"
    }
   ],
   "source": [
    "circle"
   ]
  },
  {
   "cell_type": "code",
   "execution_count": 317,
   "metadata": {},
   "outputs": [],
   "source": [
    "circle2 = Circle(Point(1, 2))"
   ]
  },
  {
   "cell_type": "code",
   "execution_count": 318,
   "metadata": {},
   "outputs": [
    {
     "data": {
      "text/plain": [
       "Circle(center=Point(1, 2), radius=1)"
      ]
     },
     "execution_count": 318,
     "metadata": {},
     "output_type": "execute_result"
    }
   ],
   "source": [
    "circle2"
   ]
  },
  {
   "cell_type": "code",
   "execution_count": 236,
   "metadata": {
    "scrolled": true
   },
   "outputs": [
    {
     "ename": "TypeError",
     "evalue": "The center must be a Point!",
     "output_type": "error",
     "traceback": [
      "\u001b[0;31m---------------------------------------------------------------------------\u001b[0m",
      "\u001b[0;31mTypeError\u001b[0m                                 Traceback (most recent call last)",
      "\u001b[0;32m<ipython-input-236-d30c48ed0a3b>\u001b[0m in \u001b[0;36m<module>\u001b[0;34m()\u001b[0m\n\u001b[0;32m----> 1\u001b[0;31m \u001b[0mcircle\u001b[0m \u001b[0;34m=\u001b[0m \u001b[0mCircle\u001b[0m\u001b[0;34m(\u001b[0m\u001b[0;36m1.5\u001b[0m\u001b[0;34m,\u001b[0m \u001b[0mPoint\u001b[0m\u001b[0;34m(\u001b[0m\u001b[0;36m2\u001b[0m\u001b[0;34m,\u001b[0m \u001b[0;36m3\u001b[0m\u001b[0;34m)\u001b[0m\u001b[0;34m)\u001b[0m\u001b[0;34m\u001b[0m\u001b[0m\n\u001b[0m",
      "\u001b[0;32m<ipython-input-231-b5ad69b67f70>\u001b[0m in \u001b[0;36m__init__\u001b[0;34m(self, center, radius)\u001b[0m\n\u001b[1;32m      3\u001b[0m     \u001b[0;32mdef\u001b[0m \u001b[0m__init__\u001b[0m\u001b[0;34m(\u001b[0m\u001b[0mself\u001b[0m\u001b[0;34m,\u001b[0m \u001b[0mcenter\u001b[0m\u001b[0;34m=\u001b[0m \u001b[0mPoint\u001b[0m\u001b[0;34m(\u001b[0m\u001b[0;36m0\u001b[0m\u001b[0;34m,\u001b[0m\u001b[0;36m0\u001b[0m\u001b[0;34m)\u001b[0m\u001b[0;34m,\u001b[0m \u001b[0mradius\u001b[0m\u001b[0;34m=\u001b[0m\u001b[0;36m1\u001b[0m\u001b[0;34m)\u001b[0m\u001b[0;34m:\u001b[0m\u001b[0;34m\u001b[0m\u001b[0m\n\u001b[1;32m      4\u001b[0m         \u001b[0;34m\"\"\"Circle initializer\"\"\"\u001b[0m\u001b[0;34m\u001b[0m\u001b[0m\n\u001b[0;32m----> 5\u001b[0;31m         \u001b[0mself\u001b[0m\u001b[0;34m.\u001b[0m\u001b[0mcenter\u001b[0m \u001b[0;34m=\u001b[0m \u001b[0mcenter\u001b[0m\u001b[0;34m\u001b[0m\u001b[0m\n\u001b[0m\u001b[1;32m      6\u001b[0m         \u001b[0mself\u001b[0m\u001b[0;34m.\u001b[0m\u001b[0mradius\u001b[0m \u001b[0;34m=\u001b[0m \u001b[0mradius\u001b[0m\u001b[0;34m\u001b[0m\u001b[0m\n\u001b[1;32m      7\u001b[0m \u001b[0;34m\u001b[0m\u001b[0m\n",
      "\u001b[0;32m<ipython-input-231-b5ad69b67f70>\u001b[0m in \u001b[0;36mcenter\u001b[0;34m(self, _center)\u001b[0m\n\u001b[1;32m     14\u001b[0m         \u001b[0mself\u001b[0m\u001b[0;34m.\u001b[0m\u001b[0m_center\u001b[0m \u001b[0;34m=\u001b[0m \u001b[0m_center\u001b[0m\u001b[0;34m\u001b[0m\u001b[0m\n\u001b[1;32m     15\u001b[0m         \u001b[0;32mif\u001b[0m \u001b[0;32mnot\u001b[0m \u001b[0misinstance\u001b[0m\u001b[0;34m(\u001b[0m\u001b[0mself\u001b[0m\u001b[0;34m.\u001b[0m\u001b[0m_center\u001b[0m\u001b[0;34m,\u001b[0m \u001b[0mPoint\u001b[0m\u001b[0;34m)\u001b[0m\u001b[0;34m:\u001b[0m\u001b[0;34m\u001b[0m\u001b[0m\n\u001b[0;32m---> 16\u001b[0;31m             \u001b[0;32mraise\u001b[0m \u001b[0mTypeError\u001b[0m\u001b[0;34m(\u001b[0m\u001b[0;34m\"The center must be a Point!\"\u001b[0m\u001b[0;34m)\u001b[0m\u001b[0;34m\u001b[0m\u001b[0m\n\u001b[0m\u001b[1;32m     17\u001b[0m \u001b[0;34m\u001b[0m\u001b[0m\n\u001b[1;32m     18\u001b[0m     \u001b[0;34m@\u001b[0m\u001b[0mproperty\u001b[0m\u001b[0;34m\u001b[0m\u001b[0m\n",
      "\u001b[0;31mTypeError\u001b[0m: The center must be a Point!"
     ]
    }
   ],
   "source": [
    "circle = Circle(1.5, Point(2, 3))"
   ]
  },
  {
   "cell_type": "code",
   "execution_count": 199,
   "metadata": {},
   "outputs": [],
   "source": [
    "circle = Circle(center=Point(3, 4), radius=2)"
   ]
  },
  {
   "cell_type": "code",
   "execution_count": 200,
   "metadata": {},
   "outputs": [
    {
     "ename": "TypeError",
     "evalue": "The center must be a Point!",
     "output_type": "error",
     "traceback": [
      "\u001b[0;31m---------------------------------------------------------------------------\u001b[0m",
      "\u001b[0;31mTypeError\u001b[0m                                 Traceback (most recent call last)",
      "\u001b[0;32m<ipython-input-200-587bce863265>\u001b[0m in \u001b[0;36m<module>\u001b[0;34m()\u001b[0m\n\u001b[0;32m----> 1\u001b[0;31m \u001b[0mcircle\u001b[0m\u001b[0;34m.\u001b[0m\u001b[0mcenter\u001b[0m \u001b[0;34m=\u001b[0m \u001b[0;34m(\u001b[0m\u001b[0;36m3\u001b[0m\u001b[0;34m,\u001b[0m \u001b[0;36m4\u001b[0m\u001b[0;34m)\u001b[0m\u001b[0;34m\u001b[0m\u001b[0m\n\u001b[0m",
      "\u001b[0;32m<ipython-input-186-726f7d13fc59>\u001b[0m in \u001b[0;36mcenter\u001b[0;34m(self, _center)\u001b[0m\n\u001b[1;32m     14\u001b[0m         \u001b[0mself\u001b[0m\u001b[0;34m.\u001b[0m\u001b[0m_center\u001b[0m \u001b[0;34m=\u001b[0m \u001b[0m_center\u001b[0m\u001b[0;34m\u001b[0m\u001b[0m\n\u001b[1;32m     15\u001b[0m         \u001b[0;32mif\u001b[0m \u001b[0;34m(\u001b[0m\u001b[0misinstance\u001b[0m\u001b[0;34m(\u001b[0m\u001b[0mself\u001b[0m\u001b[0;34m.\u001b[0m\u001b[0m_center\u001b[0m\u001b[0;34m,\u001b[0m \u001b[0mPoint\u001b[0m\u001b[0;34m)\u001b[0m \u001b[0;32mis\u001b[0m \u001b[0;32mFalse\u001b[0m\u001b[0;34m)\u001b[0m\u001b[0;34m:\u001b[0m\u001b[0;34m\u001b[0m\u001b[0m\n\u001b[0;32m---> 16\u001b[0;31m             \u001b[0;32mraise\u001b[0m \u001b[0mTypeError\u001b[0m\u001b[0;34m(\u001b[0m\u001b[0;34m\"The center must be a Point!\"\u001b[0m\u001b[0;34m)\u001b[0m\u001b[0;34m\u001b[0m\u001b[0m\n\u001b[0m\u001b[1;32m     17\u001b[0m \u001b[0;34m\u001b[0m\u001b[0m\n\u001b[1;32m     18\u001b[0m     \u001b[0;34m@\u001b[0m\u001b[0mproperty\u001b[0m\u001b[0;34m\u001b[0m\u001b[0m\n",
      "\u001b[0;31mTypeError\u001b[0m: The center must be a Point!"
     ]
    }
   ],
   "source": [
    "circle.center = (3, 4)"
   ]
  },
  {
   "cell_type": "code",
   "execution_count": 244,
   "metadata": {},
   "outputs": [],
   "source": [
    "circle1 = Circle(radius=2.5, center=Point(1, 1))"
   ]
  },
  {
   "cell_type": "code",
   "execution_count": 245,
   "metadata": {},
   "outputs": [],
   "source": [
    "circle2 = Circle(center=Point(2, 3), radius=1)"
   ]
  },
  {
   "cell_type": "code",
   "execution_count": 246,
   "metadata": {},
   "outputs": [
    {
     "data": {
      "text/plain": [
       "Circle(center=Point(1, 1), radius=2.5)"
      ]
     },
     "execution_count": 246,
     "metadata": {},
     "output_type": "execute_result"
    }
   ],
   "source": [
    "circle1"
   ]
  },
  {
   "cell_type": "code",
   "execution_count": 247,
   "metadata": {},
   "outputs": [
    {
     "data": {
      "text/plain": [
       "Circle(center=Point(2, 3), radius=1)"
      ]
     },
     "execution_count": 247,
     "metadata": {},
     "output_type": "execute_result"
    }
   ],
   "source": [
    "circle2"
   ]
  },
  {
   "cell_type": "code",
   "execution_count": 248,
   "metadata": {},
   "outputs": [],
   "source": [
    "id1, id2 = id(circle1), id(circle2)"
   ]
  },
  {
   "cell_type": "code",
   "execution_count": 249,
   "metadata": {},
   "outputs": [],
   "source": [
    "circle3 = circle1 + circle2"
   ]
  },
  {
   "cell_type": "code",
   "execution_count": 250,
   "metadata": {},
   "outputs": [
    {
     "data": {
      "text/plain": [
       "Circle(center=Point(3, 4), radius=3.5)"
      ]
     },
     "execution_count": 250,
     "metadata": {},
     "output_type": "execute_result"
    }
   ],
   "source": [
    "circle3"
   ]
  },
  {
   "cell_type": "code",
   "execution_count": 251,
   "metadata": {},
   "outputs": [
    {
     "data": {
      "text/plain": [
       "Circle(center=Point(1, 1), radius=2.5)"
      ]
     },
     "execution_count": 251,
     "metadata": {},
     "output_type": "execute_result"
    }
   ],
   "source": [
    "circle1"
   ]
  },
  {
   "cell_type": "code",
   "execution_count": 252,
   "metadata": {},
   "outputs": [
    {
     "data": {
      "text/plain": [
       "Circle(center=Point(2, 3), radius=1)"
      ]
     },
     "execution_count": 252,
     "metadata": {},
     "output_type": "execute_result"
    }
   ],
   "source": [
    "circle2"
   ]
  },
  {
   "cell_type": "code",
   "execution_count": 253,
   "metadata": {},
   "outputs": [
    {
     "data": {
      "text/plain": [
       "True"
      ]
     },
     "execution_count": 253,
     "metadata": {},
     "output_type": "execute_result"
    }
   ],
   "source": [
    "id1 == id(circle1)"
   ]
  },
  {
   "cell_type": "code",
   "execution_count": 254,
   "metadata": {},
   "outputs": [
    {
     "data": {
      "text/plain": [
       "True"
      ]
     },
     "execution_count": 254,
     "metadata": {},
     "output_type": "execute_result"
    }
   ],
   "source": [
    "id2 == id(circle2)"
   ]
  },
  {
   "cell_type": "code",
   "execution_count": 592,
   "metadata": {},
   "outputs": [],
   "source": [
    "circle1 = Circle(radius=2.5, center=Point(1, 1))"
   ]
  },
  {
   "cell_type": "code",
   "execution_count": 594,
   "metadata": {},
   "outputs": [],
   "source": [
    "circle2 = Circle(center=Point(2, 3), radius=1)"
   ]
  },
  {
   "cell_type": "code",
   "execution_count": 595,
   "metadata": {},
   "outputs": [],
   "source": [
    "id1 = id(circle1)"
   ]
  },
  {
   "cell_type": "code",
   "execution_count": 596,
   "metadata": {},
   "outputs": [],
   "source": [
    "circle1 += circle2"
   ]
  },
  {
   "cell_type": "code",
   "execution_count": 597,
   "metadata": {},
   "outputs": [
    {
     "data": {
      "text/plain": [
       "Circle(center=Point(2, 3), radius=1)"
      ]
     },
     "execution_count": 597,
     "metadata": {},
     "output_type": "execute_result"
    }
   ],
   "source": [
    "circle2"
   ]
  },
  {
   "cell_type": "code",
   "execution_count": 598,
   "metadata": {},
   "outputs": [
    {
     "data": {
      "text/plain": [
       "Circle(center=Point(3, 4), radius=3.5)"
      ]
     },
     "execution_count": 598,
     "metadata": {},
     "output_type": "execute_result"
    }
   ],
   "source": [
    "circle1"
   ]
  },
  {
   "cell_type": "code",
   "execution_count": 599,
   "metadata": {},
   "outputs": [
    {
     "data": {
      "text/plain": [
       "False"
      ]
     },
     "execution_count": 599,
     "metadata": {},
     "output_type": "execute_result"
    }
   ],
   "source": [
    "id1 == id(circle1)"
   ]
  },
  {
   "cell_type": "code",
   "execution_count": 600,
   "metadata": {},
   "outputs": [],
   "source": [
    "circle = Circle(Point(2, 3), 2)"
   ]
  },
  {
   "cell_type": "code",
   "execution_count": 601,
   "metadata": {},
   "outputs": [
    {
     "name": "stdout",
     "output_type": "stream",
     "text": [
      "Circle with center at (2, 3) and radius 2\n"
     ]
    }
   ],
   "source": [
    "print(circle)"
   ]
  },
  {
   "cell_type": "code",
   "execution_count": 602,
   "metadata": {},
   "outputs": [
    {
     "data": {
      "text/plain": [
       "Circle(center=Point(2, 3), radius=2)"
      ]
     },
     "execution_count": 602,
     "metadata": {},
     "output_type": "execute_result"
    }
   ],
   "source": [
    "circle"
   ]
  },
  {
   "cell_type": "code",
   "execution_count": 603,
   "metadata": {},
   "outputs": [],
   "source": [
    "id1 = id(circle)"
   ]
  },
  {
   "cell_type": "code",
   "execution_count": 604,
   "metadata": {},
   "outputs": [
    {
     "name": "stdout",
     "output_type": "stream",
     "text": [
      "Circle with center at (2, 3) and radius 2\n"
     ]
    }
   ],
   "source": [
    "print(circle)"
   ]
  },
  {
   "cell_type": "code",
   "execution_count": 605,
   "metadata": {},
   "outputs": [],
   "source": [
    "new_center = 4, 5"
   ]
  },
  {
   "cell_type": "code",
   "execution_count": 606,
   "metadata": {},
   "outputs": [
    {
     "data": {
      "text/plain": [
       "Circle(center=Point(4, 5), radius=2)"
      ]
     },
     "execution_count": 606,
     "metadata": {},
     "output_type": "execute_result"
    }
   ],
   "source": [
    "circle.center_from_tuple(center=new_center)"
   ]
  },
  {
   "cell_type": "code",
   "execution_count": 607,
   "metadata": {},
   "outputs": [
    {
     "data": {
      "text/plain": [
       "Circle(center=Point(3, 7), radius=2)"
      ]
     },
     "execution_count": 607,
     "metadata": {},
     "output_type": "execute_result"
    }
   ],
   "source": [
    "circle.center_from_tuple((3, 7))"
   ]
  },
  {
   "cell_type": "code",
   "execution_count": 608,
   "metadata": {},
   "outputs": [
    {
     "data": {
      "text/plain": [
       "True"
      ]
     },
     "execution_count": 608,
     "metadata": {},
     "output_type": "execute_result"
    }
   ],
   "source": [
    "id1 == id(circle)"
   ]
  },
  {
   "cell_type": "code",
   "execution_count": 618,
   "metadata": {
    "scrolled": true
   },
   "outputs": [
    {
     "ename": "TypeError",
     "evalue": "center_from_tuple() missing 1 required positional argument: 'center'",
     "output_type": "error",
     "traceback": [
      "\u001b[0;31m---------------------------------------------------------------------------\u001b[0m",
      "\u001b[0;31mTypeError\u001b[0m                                 Traceback (most recent call last)",
      "\u001b[0;32m<ipython-input-618-c67199090186>\u001b[0m in \u001b[0;36m<module>\u001b[0;34m()\u001b[0m\n\u001b[0;32m----> 1\u001b[0;31m \u001b[0mcircle\u001b[0m\u001b[0;34m.\u001b[0m\u001b[0mcenter_from_tuple\u001b[0m\u001b[0;34m(\u001b[0m\u001b[0;34m)\u001b[0m\u001b[0;34m\u001b[0m\u001b[0m\n\u001b[0m",
      "\u001b[0;31mTypeError\u001b[0m: center_from_tuple() missing 1 required positional argument: 'center'"
     ]
    }
   ],
   "source": [
    "circle.center_from_tuple()"
   ]
  },
  {
   "cell_type": "code",
   "execution_count": 620,
   "metadata": {},
   "outputs": [],
   "source": [
    "center_point = 3, 4"
   ]
  },
  {
   "cell_type": "code",
   "execution_count": 621,
   "metadata": {},
   "outputs": [],
   "source": [
    "circle = Circle.from_tuple(center=center_point)"
   ]
  },
  {
   "cell_type": "code",
   "execution_count": 622,
   "metadata": {},
   "outputs": [
    {
     "data": {
      "text/plain": [
       "Circle(center=Point(3, 4), radius=1)"
      ]
     },
     "execution_count": 622,
     "metadata": {},
     "output_type": "execute_result"
    }
   ],
   "source": [
    "circle"
   ]
  },
  {
   "cell_type": "code",
   "execution_count": 623,
   "metadata": {},
   "outputs": [],
   "source": [
    "circle = Circle.from_tuple(center=center_point, radius=3)"
   ]
  },
  {
   "cell_type": "code",
   "execution_count": 624,
   "metadata": {
    "scrolled": true
   },
   "outputs": [
    {
     "data": {
      "text/plain": [
       "Circle(center=Point(3, 4), radius=3)"
      ]
     },
     "execution_count": 624,
     "metadata": {},
     "output_type": "execute_result"
    }
   ],
   "source": [
    "circle"
   ]
  },
  {
   "cell_type": "code",
   "execution_count": 625,
   "metadata": {},
   "outputs": [],
   "source": [
    "circle = Circle.from_tuple(center_point, 2)"
   ]
  },
  {
   "cell_type": "code",
   "execution_count": 626,
   "metadata": {},
   "outputs": [
    {
     "data": {
      "text/plain": [
       "Circle(center=Point(3, 4), radius=2)"
      ]
     },
     "execution_count": 626,
     "metadata": {},
     "output_type": "execute_result"
    }
   ],
   "source": [
    "circle"
   ]
  },
  {
   "cell_type": "code",
   "execution_count": 627,
   "metadata": {},
   "outputs": [
    {
     "ename": "TypeError",
     "evalue": "from_tuple() missing 1 required positional argument: 'center'",
     "output_type": "error",
     "traceback": [
      "\u001b[0;31m---------------------------------------------------------------------------\u001b[0m",
      "\u001b[0;31mTypeError\u001b[0m                                 Traceback (most recent call last)",
      "\u001b[0;32m<ipython-input-627-71358b2a958b>\u001b[0m in \u001b[0;36m<module>\u001b[0;34m()\u001b[0m\n\u001b[0;32m----> 1\u001b[0;31m \u001b[0mcircle\u001b[0m \u001b[0;34m=\u001b[0m \u001b[0mCircle\u001b[0m\u001b[0;34m.\u001b[0m\u001b[0mfrom_tuple\u001b[0m\u001b[0;34m(\u001b[0m\u001b[0;34m)\u001b[0m\u001b[0;34m\u001b[0m\u001b[0m\n\u001b[0m",
      "\u001b[0;31mTypeError\u001b[0m: from_tuple() missing 1 required positional argument: 'center'"
     ]
    }
   ],
   "source": [
    "circle = Circle.from_tuple()"
   ]
  },
  {
   "cell_type": "code",
   "execution_count": 628,
   "metadata": {},
   "outputs": [],
   "source": [
    "circle = Circle(Point(2, 3), 4)"
   ]
  },
  {
   "cell_type": "code",
   "execution_count": 629,
   "metadata": {},
   "outputs": [],
   "source": [
    "center = circle.center"
   ]
  },
  {
   "cell_type": "code",
   "execution_count": 630,
   "metadata": {},
   "outputs": [
    {
     "data": {
      "text/plain": [
       "Point(x=2, y=3)"
      ]
     },
     "execution_count": 630,
     "metadata": {},
     "output_type": "execute_result"
    }
   ],
   "source": [
    "center"
   ]
  }
 ],
 "metadata": {
  "kernelspec": {
   "display_name": "Python 3",
   "language": "python",
   "name": "python3"
  },
  "language_info": {
   "codemirror_mode": {
    "name": "ipython",
    "version": 3
   },
   "file_extension": ".py",
   "mimetype": "text/x-python",
   "name": "python",
   "nbconvert_exporter": "python",
   "pygments_lexer": "ipython3",
   "version": "3.6.5"
  }
 },
 "nbformat": 4,
 "nbformat_minor": 2
}
