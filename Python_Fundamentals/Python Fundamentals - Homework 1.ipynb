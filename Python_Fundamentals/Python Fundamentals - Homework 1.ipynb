{
 "cells": [
  {
   "cell_type": "markdown",
   "metadata": {},
   "source": [
    "# Homework 1"
   ]
  },
  {
   "cell_type": "code",
   "execution_count": 1,
   "metadata": {},
   "outputs": [],
   "source": [
    "# Function 1\n",
    "def silly_case(in_string):\n",
    "    \"\"\"Given a string, convert it to a string such that each word starts with\n",
    "        a lower case letter, and the remaining letters are uppercase.\n",
    "        Return the silly case string.\"\"\"\n",
    "    silly_string = in_string.title().swapcase()\n",
    "    return silly_string"
   ]
  },
  {
   "cell_type": "code",
   "execution_count": 2,
   "metadata": {},
   "outputs": [],
   "source": [
    "# Function 2\n",
    "def dash_stringify(word_list):\n",
    "    \"\"\"Given a list of word strings, return a single string with all the\n",
    "        strings together, with ' - ' in between the words.\"\"\"\n",
    "    dash_sentence = ' - '.join(word_list)\n",
    "    return dash_sentence"
   ]
  },
  {
   "cell_type": "code",
   "execution_count": 3,
   "metadata": {},
   "outputs": [],
   "source": [
    "# Function 3\n",
    "def is_perfect_square(number):\n",
    "    \"\"\"Given a number, return True if it is a perfect square,\n",
    "        else return False\"\"\"\n",
    "    sqrt = number ** 0.5\n",
    "    if sqrt == int(sqrt):\n",
    "        return True\n",
    "    else:\n",
    "        return False"
   ]
  },
  {
   "cell_type": "code",
   "execution_count": 4,
   "metadata": {},
   "outputs": [],
   "source": [
    "# Function 4\n",
    "def comfort_level(temperature):\n",
    "    \"\"\"Given a temperature in Fahrenheit, comment on the comfort level\"\"\"\n",
    "    if temperature < 60:\n",
    "        return \"Too Cold\"\n",
    "    elif 60 <= temperature < 70:\n",
    "        return \"A bit chilly\"\n",
    "    elif 74 < temperature <= 82:\n",
    "        return \"A bit warm\"\n",
    "    elif temperature > 82:\n",
    "        return \"Too hot\"\n",
    "    else:\n",
    "        return \"A comfortable temperature\""
   ]
  },
  {
   "cell_type": "code",
   "execution_count": 5,
   "metadata": {},
   "outputs": [],
   "source": [
    "# Function 5\n",
    "def dict_from_triple(tuples):\n",
    "    \"\"\"Given a list of 3-tuples, return a dictionary whose keys are the first\n",
    "        elements of the tuples, and the values are tuples containing the\n",
    "        corresponding second and third elements of the tuples.\"\"\"\n",
    "    new_dict = {}\n",
    "    for item in tuples:\n",
    "        key, value1, value2 = item\n",
    "        new_dict[key] = (value1, value2)\n",
    "    return new_dict"
   ]
  },
  {
   "cell_type": "code",
   "execution_count": 6,
   "metadata": {},
   "outputs": [],
   "source": [
    "# Function 6\n",
    "def get_oldest(date1, date2):\n",
    "    \"\"\"Given 2 date strings in \"MM/DD/YYYY\" format, return oldest one.\"\"\"\n",
    "    new_date1 = date1[-4:] + date1[:2] + date1[3:5]\n",
    "    new_date2 = date2[-4:] + date2[:2] + date2[3:5]\n",
    "    if new_date1 > new_date2:\n",
    "        return date1\n",
    "    elif new_date1 < new_date2:\n",
    "        return date2\n",
    "    else:\n",
    "        return \"The dates are equal\""
   ]
  }
 ],
 "metadata": {
  "kernelspec": {
   "display_name": "Python 3",
   "language": "python",
   "name": "python3"
  },
  "language_info": {
   "codemirror_mode": {
    "name": "ipython",
    "version": 3
   },
   "file_extension": ".py",
   "mimetype": "text/x-python",
   "name": "python",
   "nbconvert_exporter": "python",
   "pygments_lexer": "ipython3",
   "version": "3.6.5"
  }
 },
 "nbformat": 4,
 "nbformat_minor": 2
}
