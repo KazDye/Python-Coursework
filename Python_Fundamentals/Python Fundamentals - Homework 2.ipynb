{
 "cells": [
  {
   "cell_type": "markdown",
   "metadata": {},
   "source": [
    "# Homework 2"
   ]
  },
  {
   "cell_type": "code",
   "execution_count": 1,
   "metadata": {},
   "outputs": [],
   "source": [
    "# Function 1\n",
    "def combine_lists(one, two):\n",
    "    \"\"\"Take 2 lists as input and return a new list consisting of the elements\n",
    "        of the first list followed by the elements of the second list\"\"\"\n",
    "    new_list = one + two\n",
    "    return new_list"
   ]
  },
  {
   "cell_type": "code",
   "execution_count": 8,
   "metadata": {},
   "outputs": [
    {
     "name": "stdout",
     "output_type": "stream",
     "text": [
      "[1, 2, 3, 4, 5, 6]\n"
     ]
    }
   ],
   "source": [
    "alpha = [1,2,3]\n",
    "omega = [4,5,6]\n",
    "\n",
    "x = combine_lists(alpha, omega)\n",
    "print(x)"
   ]
  },
  {
   "cell_type": "code",
   "execution_count": 9,
   "metadata": {},
   "outputs": [
    {
     "name": "stdout",
     "output_type": "stream",
     "text": [
      "[1, 2, 3, 'apples', 'grapes', 'peaches', 'apricots', 'bananas']\n"
     ]
    }
   ],
   "source": [
    "first = [1, 2, 3]\n",
    "fruits = ['apples', 'grapes', 'peaches', 'apricots', 'bananas']\n",
    "\n",
    "x = combine_lists(first, fruits)\n",
    "print(x)"
   ]
  },
  {
   "cell_type": "code",
   "execution_count": 2,
   "metadata": {},
   "outputs": [],
   "source": [
    "# Function 2\n",
    "def last_n_elements(sequence, n):\n",
    "    \"\"\"Given a sequence and a number n, return the last n elements of the\n",
    "        sequence\"\"\"\n",
    "    return sequence[-n:]"
   ]
  },
  {
   "cell_type": "code",
   "execution_count": 10,
   "metadata": {},
   "outputs": [
    {
     "name": "stdout",
     "output_type": "stream",
     "text": [
      "['grapes', 'peaches', 'nectarines']\n"
     ]
    }
   ],
   "source": [
    "fruits = ['apples', 'oranges', 'grapes', 'peaches', 'nectarines']\n",
    "x = last_n_elements(fruits, 3)\n",
    "print(x)"
   ]
  },
  {
   "cell_type": "code",
   "execution_count": 11,
   "metadata": {},
   "outputs": [
    {
     "name": "stdout",
     "output_type": "stream",
     "text": [
      "[76, 68, 32, 38]\n"
     ]
    }
   ],
   "source": [
    "numbers = [41, 25, 54, 15, 76, 68, 32, 38]\n",
    "x = last_n_elements(numbers, 4)\n",
    "print(x)"
   ]
  },
  {
   "cell_type": "code",
   "execution_count": 3,
   "metadata": {},
   "outputs": [],
   "source": [
    "# Function 3\n",
    "def last_n_reversed(sequence, n):\n",
    "    \"\"\"Given a sequence and a number n, return the last n elements of the\n",
    "        sequence in reversed order\"\"\"\n",
    "    return sequence[:(-n-1):-1]"
   ]
  },
  {
   "cell_type": "code",
   "execution_count": 12,
   "metadata": {},
   "outputs": [
    {
     "name": "stdout",
     "output_type": "stream",
     "text": [
      "['nectarines', 'peaches', 'grapes']\n"
     ]
    }
   ],
   "source": [
    "fruits = ['apples', 'oranges', 'grapes', 'peaches', 'nectarines']\n",
    "x = last_n_reversed(fruits, 3)\n",
    "print(x)"
   ]
  },
  {
   "cell_type": "code",
   "execution_count": 13,
   "metadata": {},
   "outputs": [
    {
     "name": "stdout",
     "output_type": "stream",
     "text": [
      "[38, 32, 68, 76]\n"
     ]
    }
   ],
   "source": [
    "numbers = [41, 25, 54, 15, 76, 68, 32, 38]\n",
    "x = last_n_reversed(numbers, 4)\n",
    "print(x)"
   ]
  },
  {
   "cell_type": "code",
   "execution_count": 19,
   "metadata": {},
   "outputs": [],
   "source": [
    "# Function 4\n",
    "def power_list(numbers):\n",
    "    \"\"\"Given a list of numbers, return a new list where each element is the\n",
    "        corresponding element of the list to the power of the list index\"\"\"\n",
    "    new_list = [y ** x for y, x in enumerate(numbers)]\n",
    "    return new_list"
   ]
  },
  {
   "cell_type": "code",
   "execution_count": 20,
   "metadata": {},
   "outputs": [
    {
     "name": "stdout",
     "output_type": "stream",
     "text": [
      "[0, 1, 16, 81, 256]\n"
     ]
    }
   ],
   "source": [
    "numbers = [4,4,4,4,4]\n",
    "x = power_list(numbers)\n",
    "print(x)"
   ]
  },
  {
   "cell_type": "code",
   "execution_count": 5,
   "metadata": {},
   "outputs": [],
   "source": [
    "# Function 5\n",
    "def identity(size):\n",
    "    \"\"\"Return an identity matrix of size x size.\"\"\"\n",
    "    matrix = [[1 if x == s else 0 for x in range(size)] for s in range(size)]\n",
    "    return matrix"
   ]
  },
  {
   "cell_type": "code",
   "execution_count": 21,
   "metadata": {},
   "outputs": [
    {
     "data": {
      "text/plain": [
       "[[1, 0, 0], [0, 1, 0], [0, 0, 1]]"
      ]
     },
     "execution_count": 21,
     "metadata": {},
     "output_type": "execute_result"
    }
   ],
   "source": [
    "identity(3)"
   ]
  },
  {
   "cell_type": "code",
   "execution_count": 22,
   "metadata": {},
   "outputs": [
    {
     "name": "stdout",
     "output_type": "stream",
     "text": [
      "[]\n"
     ]
    }
   ],
   "source": [
    "print([0]*0)"
   ]
  },
  {
   "cell_type": "code",
   "execution_count": 6,
   "metadata": {},
   "outputs": [],
   "source": [
    "# Function 6\n",
    "def get_vowel_names(names):\n",
    "    \"\"\"Return a list containing all names given that start with a vowel.\"\"\"\n",
    "    vowels = 'aeiou'\n",
    "    vowel_list = [v for v in names if v.casefold()[0] in vowels]\n",
    "    return vowel_list"
   ]
  },
  {
   "cell_type": "code",
   "execution_count": 23,
   "metadata": {},
   "outputs": [
    {
     "name": "stdout",
     "output_type": "stream",
     "text": [
      "['Alice', 'Emily']\n"
     ]
    }
   ],
   "source": [
    "names = [\"Alice\", \"Bob\", \"Christy\", \"Jules\", \"Emily\"]\n",
    "x = get_vowel_names(names)\n",
    "print(x)"
   ]
  },
  {
   "cell_type": "code",
   "execution_count": 7,
   "metadata": {},
   "outputs": [],
   "source": [
    "# Function 7\n",
    "def get_word_codes(words):\n",
    "    \"\"\"Given a list of words, return a dictionary where the words are keys,\n",
    "        and the value for each key is a list of the character codes of the\n",
    "        letters of the word that is its key\"\"\"\n",
    "    unico_dict = {word: [ord(letter) for letter in word] for word in words}\n",
    "    return unico_dict"
   ]
  }
 ],
 "metadata": {
  "kernelspec": {
   "display_name": "Python 3",
   "language": "python",
   "name": "python3"
  },
  "language_info": {
   "codemirror_mode": {
    "name": "ipython",
    "version": 3
   },
   "file_extension": ".py",
   "mimetype": "text/x-python",
   "name": "python",
   "nbconvert_exporter": "python",
   "pygments_lexer": "ipython3",
   "version": "3.6.5"
  }
 },
 "nbformat": 4,
 "nbformat_minor": 2
}
