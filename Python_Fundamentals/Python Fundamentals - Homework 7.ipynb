{
 "cells": [
  {
   "cell_type": "markdown",
   "metadata": {},
   "source": [
    "# Homework 7"
   ]
  },
  {
   "cell_type": "markdown",
   "metadata": {},
   "source": [
    "## Problem 1"
   ]
  },
  {
   "cell_type": "code",
   "execution_count": null,
   "metadata": {},
   "outputs": [],
   "source": [
    "from typing import Tuple\n",
    "import sys\n",
    "\n",
    "def stats(file): \n",
    "    with open(filename) as f:\n",
    "        contents = f.read()\n",
    "\n",
    "    num_char = len(contents)\n",
    "    lines = contents.splitlines()\n",
    "    num_lines = len(lines)\n",
    "    num_words = len([w for i in lines for w in i.split(' ') if w])\n",
    "    max_line_len = max([len(i) for i in lines])\n",
    "    return num_char, num_words, num_lines, max_line_len\n",
    "\n",
    "\n",
    "if __name__ == '__main__':\n",
    "    filename = sys.argv[1:]\n",
    "    filename = ''.join(filename)\n",
    "    c, w, l, ll = stats(filename)\n",
    "    print(f\"Characters: {c}, Words: {w}, Lines: {l}, Longest: {ll}\")\n",
    "else:\n",
    "    filename = sys.argv[1:]\n",
    "    filename = ''.join(filename)\n",
    "    print(stats(filename))"
   ]
  },
  {
   "cell_type": "code",
   "execution_count": null,
   "metadata": {},
   "outputs": [],
   "source": [
    "c, w, l, ll = stats('books.csv')"
   ]
  },
  {
   "cell_type": "code",
   "execution_count": 38,
   "metadata": {},
   "outputs": [
    {
     "name": "stdout",
     "output_type": "stream",
     "text": [
      "characters: 557, words: 45, lines: 6, longest: 120\n"
     ]
    }
   ],
   "source": [
    "print(f\"characters: {c}, words: {w}, lines: {l}, longest: {ll}\")"
   ]
  },
  {
   "cell_type": "code",
   "execution_count": 36,
   "metadata": {},
   "outputs": [
    {
     "data": {
      "text/plain": [
       "(557, 45, 6, 120)"
      ]
     },
     "execution_count": 36,
     "metadata": {},
     "output_type": "execute_result"
    }
   ],
   "source": [
    "stats('books.csv')"
   ]
  },
  {
   "cell_type": "markdown",
   "metadata": {},
   "source": [
    "## Problem 2"
   ]
  },
  {
   "cell_type": "code",
   "execution_count": 40,
   "metadata": {},
   "outputs": [],
   "source": [
    "import csv\n",
    "\n",
    "def tab_to_comma(out_file: str, in_file: str) -> None:\n",
    "    with open(in_file) as csv_file:\n",
    "        rows = csv.reader(csv_file, delimiter='\\t')\n",
    "    \n",
    "        with open(out_file, mode='wt') as write_file:\n",
    "            csv_writer = csv.writer(write_file, delimiter=',')\n",
    "            for r in rows:\n",
    "                csv_writer.writerow(r)"
   ]
  },
  {
   "cell_type": "code",
   "execution_count": 41,
   "metadata": {},
   "outputs": [],
   "source": [
    "tab_to_comma(out_file='colors_commas.csv', in_file='colors.csv')"
   ]
  },
  {
   "cell_type": "code",
   "execution_count": 42,
   "metadata": {},
   "outputs": [],
   "source": [
    "tab_to_comma(out_file='people.csv', in_file='people.tsv')"
   ]
  },
  {
   "cell_type": "code",
   "execution_count": 43,
   "metadata": {},
   "outputs": [
    {
     "name": "stdout",
     "output_type": "stream",
     "text": [
      "['purple,0.15', 'indigo,0.25', 'crimson red,0.30', 'sky blue,0.05', 'spring green,0.25']\n"
     ]
    }
   ],
   "source": [
    "# test output\n",
    "with open('colors_commas.csv') as csv_file:\n",
    "    contents = csv_file.read().splitlines()\n",
    "print(contents)"
   ]
  },
  {
   "cell_type": "code",
   "execution_count": 44,
   "metadata": {},
   "outputs": [
    {
     "name": "stdout",
     "output_type": "stream",
     "text": [
      "['Tom\\tDick\\tHarry,New York', 'Susan,Omaha', 'Rebecca\\tRupert,San Francisco', 'George,St. Louis', 'William\\tLydia,Seattle']\n"
     ]
    }
   ],
   "source": [
    "with open('people.csv') as csv_file:\n",
    "    contents = csv_file.read().splitlines()\n",
    "print(contents)"
   ]
  },
  {
   "cell_type": "markdown",
   "metadata": {},
   "source": [
    "## Problem 3"
   ]
  },
  {
   "cell_type": "code",
   "execution_count": 124,
   "metadata": {},
   "outputs": [],
   "source": [
    "def re_order(in_file: str, out_file: str) -> None:\n",
    "    with open(in_file) as read_file:\n",
    "        reader = csv.reader(read_file)\n",
    "\n",
    "        with open(out_file, mode='wt') as write_file:\n",
    "            writer = csv.writer(write_file)\n",
    "            \n",
    "            for row in reader:\n",
    "                col1, col2 = row[0:2]\n",
    "                row[0:2] = col2, col1\n",
    "                \n",
    "                writer.writerow(row)"
   ]
  },
  {
   "cell_type": "code",
   "execution_count": 17,
   "metadata": {},
   "outputs": [
    {
     "name": "stdout",
     "output_type": "stream",
     "text": [
      "Author,Title,Publisher,Year,ISBN-10,ISBN-13\n",
      "Al Sweigart,Automate the Boring Stuff with Python,No Starch Press,2015,1593275994,978-1593275990\n",
      "Mark Pilgrim,Dive into Python 3,Apress,2009,1430224150,978-1430224150\n",
      "\"David Beazley, Brian K Jones\",\"Python Cookbook, Third edition\",O'Reilly Media,2013,1449340377,978-1449340377\n"
     ]
    }
   ],
   "source": [
    "# check output\n",
    "with open('books_author.csv') as csv_file:\n",
    "    contents = csv_file.read().splitlines()\n",
    "\n",
    "    for line in contents[0:4]:\n",
    "        print(line)"
   ]
  },
  {
   "cell_type": "markdown",
   "metadata": {},
   "source": [
    "## Problem 4"
   ]
  },
  {
   "cell_type": "code",
   "execution_count": 45,
   "metadata": {
    "code_folding": []
   },
   "outputs": [],
   "source": [
    "from collections import defaultdict, OrderedDict\n",
    "\n",
    "def re_sort(in_file: str, out_file: str) -> None:\n",
    "    with open(in_file) as read_file:\n",
    "        reader = csv.DictReader(read_file)\n",
    "        file_dict = defaultdict(list)\n",
    "        for row in reader:\n",
    "            for k, v in row.items():\n",
    "                file_dict[k].append(v)\n",
    "\n",
    "    header = tuple(file_dict.keys())\n",
    "    rows = list(zip(*file_dict.values()))\n",
    "    sorted_rows = sorted(rows, key=lambda col: col[1])\n",
    "    \n",
    "    all_rows = [header] + sorted_rows\n",
    "    str_rows = [','.join(row) for row in all_rows]\n",
    "\n",
    "    with open(out_file, mode='wt') as write_file:\n",
    "        writer = csv.writer(write_file)\n",
    "\n",
    "        for row in all_rows:\n",
    "            writer.writerow(row)"
   ]
  },
  {
   "cell_type": "code",
   "execution_count": 46,
   "metadata": {},
   "outputs": [
    {
     "name": "stdout",
     "output_type": "stream",
     "text": [
      "Title,Author,Publisher,Year,ISBN-10,ISBN-13\n",
      "Automate the Boring Stuff with Python,Al Sweigart,No Starch Press,2015,1593275994,978-1593275990\n",
      "Think Python: How to Think Like a Computer Scientist,Allen B. Downey,O'Reilly Media,2015,1491939362,978-1491939369\n",
      "\"Python Cookbook, Third edition\",\"David Beazley, Brian K Jones\",O'Reilly Media,2013,1449340377,978-1449340377\n",
      "\"Fluent Python: Clear, Concise, and Effective Programming\",Luciano Ramalho,O'Reilly Media,2015,1491946008,978-1491946008\n",
      "Dive into Python 3,Mark Pilgrim,Apress,2009,1430224150,978-1430224150\n",
      "\n"
     ]
    }
   ],
   "source": [
    "# check output\n",
    "re_sort('books.csv', 'books_sorted.csv')\n",
    "\n",
    "with open('books_sorted.csv') as csv_file:\n",
    "    contents = csv_file.read()\n",
    "    print(contents)"
   ]
  },
  {
   "cell_type": "markdown",
   "metadata": {},
   "source": [
    "## Problem 5"
   ]
  },
  {
   "cell_type": "code",
   "execution_count": 50,
   "metadata": {},
   "outputs": [
    {
     "name": "stdout",
     "output_type": "stream",
     "text": [
      "[('China', 'Beijing', '1330044000'), ('India', 'New Delhi', '1173108018'), ('United States', 'Washington', '310232863'), ('Indonesia', 'Jakarta', '242968342'), ('Brazil', 'Brasília', '201103330'), ('Pakistan', 'Islamabad', '184404791'), ('Bangladesh', 'Dhaka', '156118464'), ('Nigeria', 'Abuja', '154000000'), ('Russia', 'Moscow', '140702000'), ('Japan', 'Tokyo', '127288000'), ('Mexico', 'Mexico City', '112468855'), ('Philippines', 'Manila', '99900177'), ('Vietnam', 'Hanoi', '89571130'), ('Ethiopia', 'Addis Ababa', '88013491'), ('Germany', 'Berlin', '81802257'), ('Egypt', 'Cairo', '80471869'), ('Turkey', 'Ankara', '77804122'), ('Iran', 'Tehran', '76923300'), ('Democratic Republic of the Congo', 'Kinshasa', '70916439'), ('Thailand', 'Bangkok', '67089500'), ('France', 'Paris', '64768389'), ('United Kingdom', 'London', '62348447'), ('Italy', 'Rome', '60340328'), ('Myanmar [Burma]', 'Naypyitaw', '53414374'), ('South Africa', 'Pretoria', '49000000'), ('South Korea', 'Seoul', '48422644'), ('Colombia', 'Bogotá', '47790000'), ('Spain', 'Madrid', '46505963'), ('Ukraine', 'Kiev', '45415596'), ('Tanzania', 'Dodoma', '41892895'), ('Argentina', 'Buenos Aires', '41343201'), ('Kenya', 'Nairobi', '40046566'), ('Poland', 'Warsaw', '38500000'), ('Sudan', 'Khartoum', '35000000'), ('Algeria', 'Algiers', '34586184'), ('Morocco', 'Rabat', '33848242'), ('Canada', 'Ottawa', '33679000'), ('Uganda', 'Kampala', '33398682'), ('Peru', 'Lima', '29907003'), ('Iraq', 'Baghdad', '29671605'), ('Afghanistan', 'Kabul', '29121286'), ('Nepal', 'Kathmandu', '28951852'), ('Malaysia', 'Kuala Lumpur', '28274729'), ('Uzbekistan', 'Tashkent', '27865738'), ('Venezuela', 'Caracas', '27223228'), ('Saudi Arabia', 'Riyadh', '25731776'), ('Ghana', 'Accra', '24339838'), ('Yemen', 'Sanaa', '23495361'), ('North Korea', 'Pyongyang', '22912177'), ('Taiwan', 'Taipei', '22894384'), ('Syria', 'Damascus', '22198110'), ('Mozambique', 'Maputo', '22061451'), ('Romania', 'Bucharest', '21959278'), ('Australia', 'Canberra', '21515754'), ('Sri Lanka', 'Colombo', '21513990'), ('Madagascar', 'Antananarivo', '21281844'), ('Ivory Coast', 'Yamoussoukro', '21058798'), ('Cameroon', 'Yaoundé', '19294149'), ('Chile', 'Santiago', '16746491'), ('Netherlands', 'Amsterdam', '16645000'), ('Burkina Faso', 'Ouagadougou', '16241811'), ('Niger', 'Niamey', '15878271'), ('Malawi', 'Lilongwe', '15447500'), ('Kazakhstan', 'Astana', '15340000'), ('Ecuador', 'Quito', '14790608'), ('Cambodia', 'Phnom Penh', '14453680'), ('Mali', 'Bamako', '13796354'), ('Guatemala', 'Guatemala City', '13550440'), ('Zambia', 'Lusaka', '13460305'), ('Angola', 'Luanda', '13068161'), ('Zimbabwe', 'Harare', '13061000'), ('Senegal', 'Dakar', '12323252'), ('Cuba', 'Havana', '11423000'), ('Rwanda', 'Kigali', '11055976'), ('Greece', 'Athens', '11000000'), ('Portugal', 'Lisbon', '10676000'), ('Tunisia', 'Tunis', '10589025'), ('Chad', \"N'Djamena\", '10543464'), ('Czechia', 'Prague', '10476000'), ('Belgium', 'Brussels', '10403000'), ('Guinea', 'Conakry', '10324025'), ('Somalia', 'Mogadishu', '10112453'), ('Hungary', 'Budapest', '9982000'), ('Bolivia', 'Sucre', '9947418'), ('Burundi', 'Bujumbura', '9863117'), ('Sweden', 'Stockholm', '9828655'), ('Dominican Republic', 'Santo Domingo', '9823821'), ('Belarus', 'Minsk', '9685000'), ('Haiti', 'Port-au-Prince', '9648924'), ('Benin', 'Porto-Novo', '9056010'), ('Azerbaijan', 'Baku', '8303512'), ('South Sudan', 'Juba', '8260490'), ('Austria', 'Vienna', '8205000'), ('Honduras', 'Tegucigalpa', '7989415'), ('Switzerland', 'Bern', '7581000'), ('Tajikistan', 'Dushanbe', '7487489'), ('Israel', '', '7353985'), ('Serbia', 'Belgrade', '7344847'), ('Bulgaria', 'Sofia', '7148785'), ('Hong Kong', 'Hong Kong', '6898686'), ('Togo', 'Lomé', '6587239'), ('Libya', 'Tripoli', '6461454'), ('Jordan', 'Amman', '6407085'), ('Paraguay', 'Asunción', '6375830'), ('Laos', 'Vientiane', '6368162'), ('Papua New Guinea', 'Port Moresby', '6064515'), ('El Salvador', 'San Salvador', '6052064'), ('Nicaragua', 'Managua', '5995928'), ('Eritrea', 'Asmara', '5792984'), ('Kyrgyzstan', 'Bishkek', '5776500'), ('Denmark', 'Copenhagen', '5484000'), ('Slovakia', 'Bratislava', '5455000'), ('Sierra Leone', 'Freetown', '5245695'), ('Finland', 'Helsinki', '5244000'), ('Norway', 'Oslo', '5009150'), ('United Arab Emirates', 'Abu Dhabi', '4975593'), ('Turkmenistan', 'Ashgabat', '4940916'), ('Central African Republic', 'Bangui', '4844927'), ('Singapore', 'Singapore', '4701069'), ('Georgia', 'Tbilisi', '4630000'), ('Ireland', 'Dublin', '4622917'), ('Bosnia and Herzegovina', 'Sarajevo', '4590000'), ('Costa Rica', 'San José', '4516220'), ('Moldova', 'Chişinău', '4324000'), ('Croatia', 'Zagreb', '4284889'), ('New Zealand', 'Wellington', '4252277'), ('Lebanon', 'Beirut', '4125247'), ('Puerto Rico', 'San Juan', '3916632'), ('Palestine', '', '3800000'), ('Liberia', 'Monrovia', '3685076'), ('Uruguay', 'Montevideo', '3477000'), ('Panama', 'Panama City', '3410676'), ('Mauritania', 'Nouakchott', '3205060'), ('Mongolia', 'Ulan Bator', '3086918'), ('Republic of the Congo', 'Brazzaville', '3039126'), ('Albania', 'Tirana', '2986952'), ('Armenia', 'Yerevan', '2968000'), ('Oman', 'Muscat', '2967717'), ('Lithuania', 'Vilnius', '2944459'), ('Jamaica', 'Kingston', '2847232'), ('Kuwait', 'Kuwait City', '2789132'), ('Latvia', 'Riga', '2217969'), ('Namibia', 'Windhoek', '2128471'), ('Macedonia', 'Skopje', '2062294'), ('Botswana', 'Gaborone', '2029307'), ('Slovenia', 'Ljubljana', '2007000'), ('Lesotho', 'Maseru', '1919552'), ('Kosovo', 'Pristina', '1800000'), ('Gambia', 'Bathurst', '1593256'), ('Guinea-Bissau', 'Bissau', '1565126'), ('Gabon', 'Libreville', '1545255'), ('Swaziland', 'Mbabane', '1354051'), ('Mauritius', 'Port Louis', '1294104'), ('Estonia', 'Tallinn', '1291170'), ('Trinidad and Tobago', 'Port of Spain', '1228691'), ('East Timor', 'Dili', '1154625'), ('Cyprus', 'Nicosia', '1102677'), ('Equatorial Guinea', 'Malabo', '1014999'), ('Fiji', 'Suva', '875983'), ('Qatar', 'Doha', '840926'), ('Réunion', 'Saint-Denis', '776948'), ('Comoros', 'Moroni', '773407'), ('Guyana', 'Georgetown', '748486'), ('Djibouti', 'Djibouti', '740528'), ('Bahrain', 'Manama', '738004'), ('Bhutan', 'Thimphu', '699847'), ('Montenegro', 'Podgorica', '666730'), ('Solomon Islands', 'Honiara', '559198'), ('Cape Verde', 'Praia', '508659'), ('Luxembourg', 'Luxembourg', '497538'), ('Suriname', 'Paramaribo', '492829'), ('Macao', 'Macao', '449198'), ('Guadeloupe', 'Basse-Terre', '443000'), ('Martinique', 'Fort-de-France', '432900'), ('Malta', 'Valletta', '403000'), ('Maldives', 'Malé', '395650'), ('Brunei', 'Bandar Seri Begawan', '395027'), ('Belize', 'Belmopan', '314522'), ('Iceland', 'Reykjavik', '308910'), ('Bahamas', 'Nassau', '301790'), ('Barbados', 'Bridgetown', '285653'), ('Western Sahara', 'Laâyoune / El Aaiún', '273008'), ('French Polynesia', 'Papeete', '270485'), ('Vanuatu', 'Port Vila', '221552'), ('New Caledonia', 'Noumea', '216494'), ('French Guiana', 'Cayenne', '195506'), ('Samoa', 'Apia', '192001'), ('São Tomé and Príncipe', 'São Tomé', '175808'), ('Saint Lucia', 'Castries', '160922'), ('Guam', 'Hagåtña', '159358'), ('Mayotte', 'Mamoudzou', '159042'), ('Curacao', 'Willemstad', '141766'), ('Tonga', \"Nuku'alofa\", '122580'), ('U.S. Virgin Islands', 'Charlotte Amalie', '108708'), ('Grenada', \"St. George's\", '107818'), ('Micronesia', 'Palikir', '107708'), ('Saint Vincent and the Grenadines', 'Kingstown', '104217'), ('Kiribati', 'Tarawa', '92533'), ('Jersey', 'Saint Helier', '90812'), ('Seychelles', 'Victoria', '88340'), ('Antigua and Barbuda', \"St. John's\", '86754'), ('Andorra', 'Andorra la Vella', '84000'), ('Isle of Man', 'Douglas', '75049'), ('Dominica', 'Roseau', '72813'), ('Aruba', 'Oranjestad', '71566'), ('Marshall Islands', 'Majuro', '65859'), ('Bermuda', 'Hamilton', '65365'), ('Guernsey', 'St Peter Port', '65228'), ('American Samoa', 'Pago Pago', '57881'), ('Greenland', 'Nuuk', '56375'), ('Northern Mariana Islands', 'Saipan', '53883'), ('Saint Kitts and Nevis', 'Basseterre', '51134'), ('Faroe Islands', 'Tórshavn', '48228'), ('Cayman Islands', 'George Town', '44270'), ('Sint Maarten', 'Philipsburg', '37429'), ('Saint Martin', 'Marigot', '35925'), ('Liechtenstein', 'Vaduz', '35000'), ('Monaco', 'Monaco', '32965'), ('San Marino', 'San Marino', '31477'), ('Gibraltar', 'Gibraltar', '27884'), ('Åland', 'Mariehamn', '26711'), ('British Virgin Islands', 'Road Town', '21730'), ('Cook Islands', 'Avarua', '21388'), ('Turks and Caicos Islands', 'Cockburn Town', '20556'), ('Palau', 'Melekeok', '19907'), ('Bonaire', 'Kralendijk', '18012'), ('Wallis and Futuna', 'Mata-Utu', '16025'), ('Anguilla', 'The Valley', '13254'), ('Tuvalu', 'Funafuti', '10472'), ('Nauru', 'Yaren', '10065'), ('Montserrat', 'Plymouth', '9341'), ('Saint Barthélemy', 'Gustavia', '8450'), ('Saint Helena', 'Jamestown', '7460'), ('Saint Pierre and Miquelon', 'Saint-Pierre', '7012'), ('British Indian Ocean Territory', '', '4000'), ('Falkland Islands', 'Stanley', '2638'), ('Svalbard and Jan Mayen', 'Longyearbyen', '2550'), ('Niue', 'Alofi', '2166'), ('Norfolk Island', 'Kingston', '1828'), ('Christmas Island', 'Flying Fish Cove', '1500'), ('Tokelau', '', '1466'), ('Vatican City', 'Vatican City', '921'), ('Cocos [Keeling] Islands', 'West Island', '628'), ('French Southern Territories', 'Port-aux-Français', '140'), ('Pitcairn Islands', 'Adamstown', '46'), ('South Georgia and the South Sandwich Islands', 'Grytviken', '30'), ('Antarctica', '', '0'), ('Bouvet Island', '', '0'), ('Heard Island and McDonald Islands', '', '0'), ('U.S. Minor Outlying Islands', '', '0')]\n"
     ]
    }
   ],
   "source": [
    "with open('countryInfo.csv') as read_file:\n",
    "    reader = csv.DictReader(read_file, delimiter='\\t')\n",
    "    info = []\n",
    "    for r in reader:\n",
    "        info.append((r['name'], r['capital'], r['population']))\n",
    "\n",
    "header = ('country', 'capital', 'population')\n",
    "vals = sorted(info, key=lambda population: int(population[2]), reverse=True)\n",
    "print(vals)\n",
    "new_rows = [OrderedDict(zip(header, v)) for v in vals]\n",
    "\n",
    "with open('country_simple_info.csv', mode='wt') as write_file:\n",
    "    writer = csv.DictWriter(write_file, fieldnames=['country', 'capital', 'population'])\n",
    "    writer.writeheader()\n",
    "    for row in new_rows:\n",
    "        writer.writerow(row)"
   ]
  },
  {
   "cell_type": "code",
   "execution_count": 92,
   "metadata": {},
   "outputs": [
    {
     "name": "stdout",
     "output_type": "stream",
     "text": [
      "country,capital,population\n",
      "Philippines,Manila,99900177\n",
      "Hungary,Budapest,9982000\n",
      "Bolivia,Sucre,9947418\n",
      "Burundi,Bujumbura,9863117\n",
      "Sweden,Stockholm,9828655\n",
      "Dominican Republic,Santo Domingo,9823821\n",
      "Belarus,Minsk,9685000\n",
      "Haiti,Port-au-Prince,9648924\n",
      "Montserrat,Plymouth,9341\n",
      "Kiribati,Tarawa,92533\n",
      "Vatican City,Vatican City,921\n",
      "Jersey,Saint Helier,90812\n",
      "Benin,Porto-Novo,9056010\n",
      "Vietnam,Hanoi,89571130\n",
      "Seychelles,Victoria,88340\n",
      "Ethiopia,Addis Ababa,88013491\n",
      "Fiji,Suva,875983\n",
      "Antigua and Barbuda,St. John's,86754\n",
      "Saint Barthélemy,Gustavia,8450\n",
      "Qatar,Doha,840926\n",
      "Andorra,Andorra la Vella,84000\n",
      "Azerbaijan,Baku,8303512\n",
      "South Sudan,Juba,8260490\n",
      "Austria,Vienna,8205000\n",
      "Germany,Berlin,81802257\n",
      "Egypt,Cairo,80471869\n",
      "Honduras,Tegucigalpa,7989415\n",
      "Turkey,Ankara,77804122\n",
      "Réunion,Saint-Denis,776948\n",
      "Comoros,Moroni,773407\n",
      "Iran,Tehran,76923300\n",
      "Switzerland,Bern,7581000\n",
      "Isle of Man,Douglas,75049\n",
      "Tajikistan,Dushanbe,7487489\n",
      "Guyana,Georgetown,748486\n",
      "Saint Helena,Jamestown,7460\n",
      "Djibouti,Djibouti,740528\n",
      "Bahrain,Manama,738004\n",
      "Israel,,7353985\n",
      "Serbia,Belgrade,7344847\n",
      "Dominica,Roseau,72813\n",
      "Aruba,Oranjestad,71566\n",
      "Bulgaria,Sofia,7148785\n",
      "Democratic Republic of the Congo,Kinshasa,70916439\n",
      "Saint Pierre and Miquelon,Saint-Pierre,7012\n",
      "Bhutan,Thimphu,699847\n",
      "Hong Kong,Hong Kong,6898686\n",
      "Thailand,Bangkok,67089500\n",
      "Montenegro,Podgorica,666730\n",
      "Togo,Lomé,6587239\n",
      "Marshall Islands,Majuro,65859\n",
      "Bermuda,Hamilton,65365\n",
      "Guernsey,St Peter Port,65228\n",
      "France,Paris,64768389\n",
      "Libya,Tripoli,6461454\n",
      "Jordan,Amman,6407085\n",
      "Paraguay,Asunción,6375830\n",
      "Laos,Vientiane,6368162\n",
      "Cocos [Keeling] Islands,West Island,628\n",
      "United Kingdom,London,62348447\n",
      "Papua New Guinea,Port Moresby,6064515\n",
      "El Salvador,San Salvador,6052064\n",
      "Italy,Rome,60340328\n",
      "Nicaragua,Managua,5995928\n",
      "Eritrea,Asmara,5792984\n",
      "American Samoa,Pago Pago,57881\n",
      "Kyrgyzstan,Bishkek,5776500\n",
      "Greenland,Nuuk,56375\n",
      "Solomon Islands,Honiara,559198\n",
      "Denmark,Copenhagen,5484000\n",
      "Slovakia,Bratislava,5455000\n",
      "Northern Mariana Islands,Saipan,53883\n",
      "Myanmar [Burma],Naypyitaw,53414374\n",
      "Sierra Leone,Freetown,5245695\n",
      "Finland,Helsinki,5244000\n",
      "Saint Kitts and Nevis,Basseterre,51134\n",
      "Cape Verde,Praia,508659\n",
      "Norway,Oslo,5009150\n",
      "United Arab Emirates,Abu Dhabi,4975593\n",
      "Luxembourg,Luxembourg,497538\n",
      "Turkmenistan,Ashgabat,4940916\n",
      "Suriname,Paramaribo,492829\n",
      "South Africa,Pretoria,49000000\n",
      "Central African Republic,Bangui,4844927\n",
      "South Korea,Seoul,48422644\n",
      "Faroe Islands,Tórshavn,48228\n",
      "Colombia,Bogotá,47790000\n",
      "Singapore,Singapore,4701069\n",
      "Spain,Madrid,46505963\n",
      "Georgia,Tbilisi,4630000\n",
      "Ireland,Dublin,4622917\n",
      "Pitcairn Islands,Adamstown,46\n",
      "Bosnia and Herzegovina,Sarajevo,4590000\n",
      "Ukraine,Kiev,45415596\n",
      "Costa Rica,San José,4516220\n",
      "Macao,Macao,449198\n",
      "Guadeloupe,Basse-Terre,443000\n",
      "Cayman Islands,George Town,44270\n",
      "Martinique,Fort-de-France,432900\n",
      "Moldova,Chişinău,4324000\n",
      "Croatia,Zagreb,4284889\n",
      "New Zealand,Wellington,4252277\n",
      "Tanzania,Dodoma,41892895\n",
      "Argentina,Buenos Aires,41343201\n",
      "Lebanon,Beirut,4125247\n",
      "Malta,Valletta,403000\n",
      "Kenya,Nairobi,40046566\n",
      "British Indian Ocean Territory,,4000\n",
      "Maldives,Malé,395650\n",
      "Brunei,Bandar Seri Begawan,395027\n",
      "Puerto Rico,San Juan,3916632\n",
      "Poland,Warsaw,38500000\n",
      "Palestine,,3800000\n",
      "Sint Maarten,Philipsburg,37429\n",
      "Liberia,Monrovia,3685076\n",
      "Saint Martin,Marigot,35925\n",
      "Sudan,Khartoum,35000000\n",
      "Liechtenstein,Vaduz,35000\n",
      "Uruguay,Montevideo,3477000\n",
      "Algeria,Algiers,34586184\n",
      "Panama,Panama City,3410676\n",
      "Morocco,Rabat,33848242\n",
      "Canada,Ottawa,33679000\n",
      "Uganda,Kampala,33398682\n",
      "Monaco,Monaco,32965\n",
      "Mauritania,Nouakchott,3205060\n",
      "San Marino,San Marino,31477\n",
      "Belize,Belmopan,314522\n",
      "United States,Washington,310232863\n",
      "Iceland,Reykjavik,308910\n",
      "Mongolia,Ulan Bator,3086918\n",
      "Republic of the Congo,Brazzaville,3039126\n",
      "Bahamas,Nassau,301790\n",
      "South Georgia and the South Sandwich Islands,Grytviken,30\n",
      "Peru,Lima,29907003\n",
      "Albania,Tirana,2986952\n",
      "Armenia,Yerevan,2968000\n",
      "Oman,Muscat,2967717\n",
      "Iraq,Baghdad,29671605\n",
      "Lithuania,Vilnius,2944459\n",
      "Afghanistan,Kabul,29121286\n",
      "Nepal,Kathmandu,28951852\n",
      "Barbados,Bridgetown,285653\n",
      "Jamaica,Kingston,2847232\n",
      "Malaysia,Kuala Lumpur,28274729\n",
      "Kuwait,Kuwait City,2789132\n",
      "Gibraltar,Gibraltar,27884\n",
      "Uzbekistan,Tashkent,27865738\n",
      "Western Sahara,Laâyoune / El Aaiún,273008\n",
      "Venezuela,Caracas,27223228\n",
      "French Polynesia,Papeete,270485\n",
      "Åland,Mariehamn,26711\n",
      "Falkland Islands,Stanley,2638\n",
      "Saudi Arabia,Riyadh,25731776\n",
      "Svalbard and Jan Mayen,Longyearbyen,2550\n",
      "Ghana,Accra,24339838\n",
      "Indonesia,Jakarta,242968342\n",
      "Yemen,Sanaa,23495361\n",
      "North Korea,Pyongyang,22912177\n",
      "Taiwan,Taipei,22894384\n",
      "Syria,Damascus,22198110\n",
      "Latvia,Riga,2217969\n",
      "Vanuatu,Port Vila,221552\n",
      "Mozambique,Maputo,22061451\n",
      "Romania,Bucharest,21959278\n",
      "British Virgin Islands,Road Town,21730\n",
      "Niue,Alofi,2166\n",
      "New Caledonia,Noumea,216494\n",
      "Australia,Canberra,21515754\n",
      "Sri Lanka,Colombo,21513990\n",
      "Cook Islands,Avarua,21388\n",
      "Namibia,Windhoek,2128471\n",
      "Madagascar,Antananarivo,21281844\n",
      "Ivory Coast,Yamoussoukro,21058798\n",
      "Macedonia,Skopje,2062294\n",
      "Turks and Caicos Islands,Cockburn Town,20556\n",
      "Botswana,Gaborone,2029307\n",
      "Brazil,Brasília,201103330\n",
      "Slovenia,Ljubljana,2007000\n",
      "Palau,Melekeok,19907\n",
      "French Guiana,Cayenne,195506\n",
      "Cameroon,Yaoundé,19294149\n",
      "Samoa,Apia,192001\n",
      "Lesotho,Maseru,1919552\n",
      "Pakistan,Islamabad,184404791\n",
      "Norfolk Island,Kingston,1828\n",
      "Bonaire,Kralendijk,18012\n",
      "Kosovo,Pristina,1800000\n",
      "São Tomé and Príncipe,São Tomé,175808\n",
      "Chile,Santiago,16746491\n",
      "Netherlands,Amsterdam,16645000\n",
      "Burkina Faso,Ouagadougou,16241811\n",
      "Saint Lucia,Castries,160922\n",
      "Wallis and Futuna,Mata-Utu,16025\n",
      "Guam,Hagåtña,159358\n",
      "Gambia,Bathurst,1593256\n",
      "Mayotte,Mamoudzou,159042\n",
      "Niger,Niamey,15878271\n",
      "Guinea-Bissau,Bissau,1565126\n",
      "Bangladesh,Dhaka,156118464\n",
      "Gabon,Libreville,1545255\n",
      "Malawi,Lilongwe,15447500\n",
      "Nigeria,Abuja,154000000\n",
      "Kazakhstan,Astana,15340000\n",
      "Christmas Island,Flying Fish Cove,1500\n",
      "Ecuador,Quito,14790608\n",
      "Tokelau,,1466\n",
      "Cambodia,Phnom Penh,14453680\n",
      "Curacao,Willemstad,141766\n",
      "Russia,Moscow,140702000\n",
      "French Southern Territories,Port-aux-Français,140\n",
      "Mali,Bamako,13796354\n",
      "Guatemala,Guatemala City,13550440\n",
      "Swaziland,Mbabane,1354051\n",
      "Zambia,Lusaka,13460305\n",
      "China,Beijing,1330044000\n",
      "Anguilla,The Valley,13254\n",
      "Angola,Luanda,13068161\n",
      "Zimbabwe,Harare,13061000\n",
      "Mauritius,Port Louis,1294104\n",
      "Estonia,Tallinn,1291170\n",
      "Japan,Tokyo,127288000\n",
      "Senegal,Dakar,12323252\n",
      "Trinidad and Tobago,Port of Spain,1228691\n",
      "Tonga,Nuku'alofa,122580\n",
      "India,New Delhi,1173108018\n",
      "East Timor,Dili,1154625\n",
      "Cuba,Havana,11423000\n",
      "Mexico,Mexico City,112468855\n",
      "Rwanda,Kigali,11055976\n",
      "Cyprus,Nicosia,1102677\n",
      "Greece,Athens,11000000\n",
      "U.S. Virgin Islands,Charlotte Amalie,108708\n",
      "Grenada,St. George's,107818\n",
      "Micronesia,Palikir,107708\n",
      "Portugal,Lisbon,10676000\n",
      "Tunisia,Tunis,10589025\n",
      "Chad,N'Djamena,10543464\n",
      "Czechia,Prague,10476000\n",
      "Tuvalu,Funafuti,10472\n",
      "Saint Vincent and the Grenadines,Kingstown,104217\n",
      "Belgium,Brussels,10403000\n",
      "Guinea,Conakry,10324025\n",
      "Equatorial Guinea,Malabo,1014999\n",
      "Somalia,Mogadishu,10112453\n",
      "Nauru,Yaren,10065\n",
      "Antarctica,,0\n",
      "Bouvet Island,,0\n",
      "Heard Island and McDonald Islands,,0\n",
      "U.S. Minor Outlying Islands,,0\n",
      "\n"
     ]
    }
   ],
   "source": [
    "# check output\n",
    "with open('country_simple_info.csv') as csv_file:\n",
    "    contents = csv_file.read()\n",
    "    print(contents)"
   ]
  }
 ],
 "metadata": {
  "hide_input": false,
  "kernelspec": {
   "display_name": "Python 3",
   "language": "python",
   "name": "python3"
  },
  "language_info": {
   "codemirror_mode": {
    "name": "ipython",
    "version": 3
   },
   "file_extension": ".py",
   "mimetype": "text/x-python",
   "name": "python",
   "nbconvert_exporter": "python",
   "pygments_lexer": "ipython3",
   "version": "3.6.5"
  }
 },
 "nbformat": 4,
 "nbformat_minor": 4
}
